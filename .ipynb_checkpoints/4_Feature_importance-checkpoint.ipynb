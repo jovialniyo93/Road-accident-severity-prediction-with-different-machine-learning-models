{
 "cells": [
  {
   "cell_type": "code",
   "execution_count": 1,
   "metadata": {},
   "outputs": [],
   "source": [
    "# Importing python libraries\n",
    "import numpy as np\n",
    "import pandas as pd\n",
    "\n",
    "# To make all outputs show\n",
    "from IPython.core.interactiveshell import InteractiveShell\n",
    "InteractiveShell.ast_node_interactivity = \"all\""
   ]
  },
  {
   "cell_type": "code",
   "execution_count": 2,
   "metadata": {},
   "outputs": [],
   "source": [
    "#Import modules\n",
    "import numpy as np\n",
    "import holidays\n",
    "import pandas as pd\n",
    "import seaborn as sns\n",
    "import pickle\n",
    "import time\n",
    "import timeit\n",
    "\n",
    "\n",
    "import matplotlib.pyplot as plt\n",
    "#plt.style.use('dark_background')\n",
    "%matplotlib inline\n",
    "\n",
    "import datetime\n",
    "import math\n",
    "from collections import Counter\n",
    "\n",
    "#scipy\n",
    "import scipy.stats as stats\n",
    "from scipy import stats\n",
    "from scipy.stats import chi2_contingency\n",
    "\n",
    "#sklearn\n",
    "import sklearn\n",
    "from sklearn import ensemble\n",
    "from sklearn import preprocessing\n",
    "from sklearn.decomposition import PCA\n",
    "from sklearn.ensemble import AdaBoostClassifier, BaggingClassifier, ExtraTreesClassifier\n",
    "from sklearn.ensemble import RandomForestClassifier\n",
    "from sklearn.feature_selection import SelectFromModel\n",
    "from sklearn.impute import SimpleImputer\n",
    "from sklearn.linear_model import LogisticRegression\n",
    "from sklearn.metrics import accuracy_score, f1_score, precision_score, log_loss, recall_score \n",
    "from sklearn.metrics import classification_report, confusion_matrix, roc_auc_score\n",
    "from sklearn.model_selection import cross_val_score, GridSearchCV, train_test_split\n",
    "from sklearn.preprocessing import LabelEncoder, OneHotEncoder, StandardScaler, OrdinalEncoder\n",
    "from sklearn.svm import SVC\n",
    "from sklearn.tree import DecisionTreeClassifier\n",
    "from sklearn.utils import resample\n",
    "\n",
    "#for clustering\n",
    "from sklearn.cluster import KMeans\n",
    "from sklearn.preprocessing import normalize\n",
    "from sklearn.decomposition import PCA\n",
    "from sklearn.cluster import MiniBatchKMeans\n",
    "from sklearn.metrics import silhouette_score\n",
    "\n",
    "#other learners\n",
    "from xgboost import XGBClassifier\n",
    "from lightgbm import LGBMClassifier\n",
    "from kmodes.kmodes import KModes\n",
    "\n",
    "#imblearn\n",
    "from imblearn.ensemble import BalancedBaggingClassifier\n",
    "from imblearn.ensemble import EasyEnsembleClassifier\n",
    "from imblearn.ensemble import BalancedRandomForestClassifier\n",
    "\n",
    "#webscraping\n",
    "import requests\n",
    "from bs4 import BeautifulSoup\n",
    "import re\n",
    "import urllib\n",
    "from IPython.core.display import HTML\n",
    "\n",
    "#time series\n",
    "import statsmodels.api as sm\n",
    "from pylab import rcParams\n",
    "import itertools\n",
    "from statsmodels.tsa.stattools import adfuller\n",
    "from statsmodels.tsa.stattools import acf, pacf\n",
    "from statsmodels.tsa.seasonal import seasonal_decompose\n",
    "from statsmodels.tsa.arima_model import ARIMA\n",
    "\n",
    "\n",
    "#warning ignorer\n",
    "import warnings\n",
    "warnings.filterwarnings(\"ignore\")"
   ]
  },
  {
   "cell_type": "code",
   "execution_count": 3,
   "metadata": {},
   "outputs": [],
   "source": [
    "# Reading in pre-processed and transformed data \n",
    "\n",
    "file = 'data/Cleaned_dataset.csv'\n",
    "\n",
    "dataset = pd.read_csv(file, low_memory = False)"
   ]
  },
  {
   "cell_type": "code",
   "execution_count": 4,
   "metadata": {},
   "outputs": [
    {
     "data": {
      "text/html": [
       "<div>\n",
       "<style scoped>\n",
       "    .dataframe tbody tr th:only-of-type {\n",
       "        vertical-align: middle;\n",
       "    }\n",
       "\n",
       "    .dataframe tbody tr th {\n",
       "        vertical-align: top;\n",
       "    }\n",
       "\n",
       "    .dataframe thead th {\n",
       "        text-align: right;\n",
       "    }\n",
       "</style>\n",
       "<table border=\"1\" class=\"dataframe\">\n",
       "  <thead>\n",
       "    <tr style=\"text-align: right;\">\n",
       "      <th></th>\n",
       "      <th>Unnamed: 0</th>\n",
       "      <th>X</th>\n",
       "      <th>Y</th>\n",
       "      <th>OBJECTID</th>\n",
       "      <th>ACCIDENT_NO</th>\n",
       "      <th>ABS_CODE</th>\n",
       "      <th>ACCIDENT_STATUS</th>\n",
       "      <th>ACCIDENT_DATE</th>\n",
       "      <th>ACCIDENT_TIME</th>\n",
       "      <th>ALCOHOLTIME</th>\n",
       "      <th>...</th>\n",
       "      <th>RMA</th>\n",
       "      <th>RMA_ALL</th>\n",
       "      <th>DIVIDED</th>\n",
       "      <th>DIVIDED_ALL</th>\n",
       "      <th>STAT_DIV_NAME</th>\n",
       "      <th>month</th>\n",
       "      <th>weekend</th>\n",
       "      <th>hour</th>\n",
       "      <th>time_of_day</th>\n",
       "      <th>accident_seriousness</th>\n",
       "    </tr>\n",
       "  </thead>\n",
       "  <tbody>\n",
       "    <tr>\n",
       "      <th>0</th>\n",
       "      <td>0</td>\n",
       "      <td>2498217.170</td>\n",
       "      <td>2454870.252</td>\n",
       "      <td>1</td>\n",
       "      <td>T20140013514</td>\n",
       "      <td>ABS to receive accident</td>\n",
       "      <td>Unfinished</td>\n",
       "      <td>2014-07-01</td>\n",
       "      <td>13:09:00</td>\n",
       "      <td>No</td>\n",
       "      <td>...</td>\n",
       "      <td>Arterial Highway</td>\n",
       "      <td>Local Road,Arterial Highway</td>\n",
       "      <td>Undivided</td>\n",
       "      <td>Undivided</td>\n",
       "      <td>Country</td>\n",
       "      <td>7</td>\n",
       "      <td>0</td>\n",
       "      <td>13</td>\n",
       "      <td>3</td>\n",
       "      <td>Injury</td>\n",
       "    </tr>\n",
       "    <tr>\n",
       "      <th>1</th>\n",
       "      <td>1</td>\n",
       "      <td>2502934.960</td>\n",
       "      <td>2423005.289</td>\n",
       "      <td>2</td>\n",
       "      <td>T20140013549</td>\n",
       "      <td>ABS to receive accident</td>\n",
       "      <td>Finished</td>\n",
       "      <td>2014-07-02</td>\n",
       "      <td>00:01:00</td>\n",
       "      <td>Yes</td>\n",
       "      <td>...</td>\n",
       "      <td>Arterial Other</td>\n",
       "      <td>Arterial Other</td>\n",
       "      <td>Undivided</td>\n",
       "      <td>Undivided</td>\n",
       "      <td>Metro</td>\n",
       "      <td>7</td>\n",
       "      <td>0</td>\n",
       "      <td>0</td>\n",
       "      <td>7</td>\n",
       "      <td>Injury</td>\n",
       "    </tr>\n",
       "    <tr>\n",
       "      <th>2</th>\n",
       "      <td>2</td>\n",
       "      <td>2520154.039</td>\n",
       "      <td>2395621.674</td>\n",
       "      <td>3</td>\n",
       "      <td>T20140013561</td>\n",
       "      <td>ABS to receive accident</td>\n",
       "      <td>Finished</td>\n",
       "      <td>2014-07-02</td>\n",
       "      <td>08:30:00</td>\n",
       "      <td>No</td>\n",
       "      <td>...</td>\n",
       "      <td>Local Road</td>\n",
       "      <td>Local Road</td>\n",
       "      <td>Undivided</td>\n",
       "      <td>Undivided</td>\n",
       "      <td>Metro</td>\n",
       "      <td>7</td>\n",
       "      <td>0</td>\n",
       "      <td>8</td>\n",
       "      <td>1</td>\n",
       "      <td>Injury</td>\n",
       "    </tr>\n",
       "    <tr>\n",
       "      <th>3</th>\n",
       "      <td>3</td>\n",
       "      <td>2473719.463</td>\n",
       "      <td>2402357.319</td>\n",
       "      <td>4</td>\n",
       "      <td>T20140013563</td>\n",
       "      <td>ABS to receive accident</td>\n",
       "      <td>Finished</td>\n",
       "      <td>2014-07-02</td>\n",
       "      <td>10:08:00</td>\n",
       "      <td>No</td>\n",
       "      <td>...</td>\n",
       "      <td>Arterial Other</td>\n",
       "      <td>Arterial Other,Local Road</td>\n",
       "      <td>Divided</td>\n",
       "      <td>Undivided,Divided</td>\n",
       "      <td>Metro</td>\n",
       "      <td>7</td>\n",
       "      <td>0</td>\n",
       "      <td>10</td>\n",
       "      <td>2</td>\n",
       "      <td>Injury</td>\n",
       "    </tr>\n",
       "    <tr>\n",
       "      <th>4</th>\n",
       "      <td>4</td>\n",
       "      <td>2484073.998</td>\n",
       "      <td>2409123.682</td>\n",
       "      <td>5</td>\n",
       "      <td>T20140013567</td>\n",
       "      <td>ABS to receive accident</td>\n",
       "      <td>Finished</td>\n",
       "      <td>2014-07-02</td>\n",
       "      <td>09:12:00</td>\n",
       "      <td>No</td>\n",
       "      <td>...</td>\n",
       "      <td>Arterial Other</td>\n",
       "      <td>Arterial Other,Local Road</td>\n",
       "      <td>Undivided</td>\n",
       "      <td>Undivided</td>\n",
       "      <td>Metro</td>\n",
       "      <td>7</td>\n",
       "      <td>0</td>\n",
       "      <td>9</td>\n",
       "      <td>1</td>\n",
       "      <td>Injury</td>\n",
       "    </tr>\n",
       "  </tbody>\n",
       "</table>\n",
       "<p>5 rows × 71 columns</p>\n",
       "</div>"
      ],
      "text/plain": [
       "   Unnamed: 0            X            Y  OBJECTID   ACCIDENT_NO  \\\n",
       "0           0  2498217.170  2454870.252         1  T20140013514   \n",
       "1           1  2502934.960  2423005.289         2  T20140013549   \n",
       "2           2  2520154.039  2395621.674         3  T20140013561   \n",
       "3           3  2473719.463  2402357.319         4  T20140013563   \n",
       "4           4  2484073.998  2409123.682         5  T20140013567   \n",
       "\n",
       "                  ABS_CODE ACCIDENT_STATUS ACCIDENT_DATE ACCIDENT_TIME  \\\n",
       "0  ABS to receive accident      Unfinished    2014-07-01      13:09:00   \n",
       "1  ABS to receive accident        Finished    2014-07-02      00:01:00   \n",
       "2  ABS to receive accident        Finished    2014-07-02      08:30:00   \n",
       "3  ABS to receive accident        Finished    2014-07-02      10:08:00   \n",
       "4  ABS to receive accident        Finished    2014-07-02      09:12:00   \n",
       "\n",
       "  ALCOHOLTIME  ...               RMA                      RMA_ALL    DIVIDED  \\\n",
       "0          No  ...  Arterial Highway  Local Road,Arterial Highway  Undivided   \n",
       "1         Yes  ...    Arterial Other               Arterial Other  Undivided   \n",
       "2          No  ...        Local Road                   Local Road  Undivided   \n",
       "3          No  ...    Arterial Other    Arterial Other,Local Road    Divided   \n",
       "4          No  ...    Arterial Other    Arterial Other,Local Road  Undivided   \n",
       "\n",
       "         DIVIDED_ALL STAT_DIV_NAME month weekend hour time_of_day  \\\n",
       "0          Undivided       Country     7       0   13           3   \n",
       "1          Undivided         Metro     7       0    0           7   \n",
       "2          Undivided         Metro     7       0    8           1   \n",
       "3  Undivided,Divided         Metro     7       0   10           2   \n",
       "4          Undivided         Metro     7       0    9           1   \n",
       "\n",
       "  accident_seriousness  \n",
       "0               Injury  \n",
       "1               Injury  \n",
       "2               Injury  \n",
       "3               Injury  \n",
       "4               Injury  \n",
       "\n",
       "[5 rows x 71 columns]"
      ]
     },
     "execution_count": 4,
     "metadata": {},
     "output_type": "execute_result"
    }
   ],
   "source": [
    "dataset.head()"
   ]
  },
  {
   "cell_type": "code",
   "execution_count": 5,
   "metadata": {},
   "outputs": [],
   "source": [
    "# Dropping unnamed column\n",
    "dataset.drop(dataset.columns[0],axis=1,inplace=True)"
   ]
  },
  {
   "cell_type": "code",
   "execution_count": 6,
   "metadata": {},
   "outputs": [
    {
     "data": {
      "text/html": [
       "<div>\n",
       "<style scoped>\n",
       "    .dataframe tbody tr th:only-of-type {\n",
       "        vertical-align: middle;\n",
       "    }\n",
       "\n",
       "    .dataframe tbody tr th {\n",
       "        vertical-align: top;\n",
       "    }\n",
       "\n",
       "    .dataframe thead th {\n",
       "        text-align: right;\n",
       "    }\n",
       "</style>\n",
       "<table border=\"1\" class=\"dataframe\">\n",
       "  <thead>\n",
       "    <tr style=\"text-align: right;\">\n",
       "      <th></th>\n",
       "      <th>X</th>\n",
       "      <th>Y</th>\n",
       "      <th>OBJECTID</th>\n",
       "      <th>ACCIDENT_NO</th>\n",
       "      <th>ABS_CODE</th>\n",
       "      <th>ACCIDENT_STATUS</th>\n",
       "      <th>ACCIDENT_DATE</th>\n",
       "      <th>ACCIDENT_TIME</th>\n",
       "      <th>ALCOHOLTIME</th>\n",
       "      <th>ACCIDENT_TYPE</th>\n",
       "      <th>...</th>\n",
       "      <th>RMA</th>\n",
       "      <th>RMA_ALL</th>\n",
       "      <th>DIVIDED</th>\n",
       "      <th>DIVIDED_ALL</th>\n",
       "      <th>STAT_DIV_NAME</th>\n",
       "      <th>month</th>\n",
       "      <th>weekend</th>\n",
       "      <th>hour</th>\n",
       "      <th>time_of_day</th>\n",
       "      <th>accident_seriousness</th>\n",
       "    </tr>\n",
       "  </thead>\n",
       "  <tbody>\n",
       "    <tr>\n",
       "      <th>0</th>\n",
       "      <td>2498217.170</td>\n",
       "      <td>2454870.252</td>\n",
       "      <td>1</td>\n",
       "      <td>T20140013514</td>\n",
       "      <td>ABS to receive accident</td>\n",
       "      <td>Unfinished</td>\n",
       "      <td>2014-07-01</td>\n",
       "      <td>13:09:00</td>\n",
       "      <td>No</td>\n",
       "      <td>Collision with vehicle</td>\n",
       "      <td>...</td>\n",
       "      <td>Arterial Highway</td>\n",
       "      <td>Local Road,Arterial Highway</td>\n",
       "      <td>Undivided</td>\n",
       "      <td>Undivided</td>\n",
       "      <td>Country</td>\n",
       "      <td>7</td>\n",
       "      <td>0</td>\n",
       "      <td>13</td>\n",
       "      <td>3</td>\n",
       "      <td>Injury</td>\n",
       "    </tr>\n",
       "    <tr>\n",
       "      <th>1</th>\n",
       "      <td>2502934.960</td>\n",
       "      <td>2423005.289</td>\n",
       "      <td>2</td>\n",
       "      <td>T20140013549</td>\n",
       "      <td>ABS to receive accident</td>\n",
       "      <td>Finished</td>\n",
       "      <td>2014-07-02</td>\n",
       "      <td>00:01:00</td>\n",
       "      <td>Yes</td>\n",
       "      <td>Collision with vehicle</td>\n",
       "      <td>...</td>\n",
       "      <td>Arterial Other</td>\n",
       "      <td>Arterial Other</td>\n",
       "      <td>Undivided</td>\n",
       "      <td>Undivided</td>\n",
       "      <td>Metro</td>\n",
       "      <td>7</td>\n",
       "      <td>0</td>\n",
       "      <td>0</td>\n",
       "      <td>7</td>\n",
       "      <td>Injury</td>\n",
       "    </tr>\n",
       "    <tr>\n",
       "      <th>2</th>\n",
       "      <td>2520154.039</td>\n",
       "      <td>2395621.674</td>\n",
       "      <td>3</td>\n",
       "      <td>T20140013561</td>\n",
       "      <td>ABS to receive accident</td>\n",
       "      <td>Finished</td>\n",
       "      <td>2014-07-02</td>\n",
       "      <td>08:30:00</td>\n",
       "      <td>No</td>\n",
       "      <td>collision with some other object</td>\n",
       "      <td>...</td>\n",
       "      <td>Local Road</td>\n",
       "      <td>Local Road</td>\n",
       "      <td>Undivided</td>\n",
       "      <td>Undivided</td>\n",
       "      <td>Metro</td>\n",
       "      <td>7</td>\n",
       "      <td>0</td>\n",
       "      <td>8</td>\n",
       "      <td>1</td>\n",
       "      <td>Injury</td>\n",
       "    </tr>\n",
       "    <tr>\n",
       "      <th>3</th>\n",
       "      <td>2473719.463</td>\n",
       "      <td>2402357.319</td>\n",
       "      <td>4</td>\n",
       "      <td>T20140013563</td>\n",
       "      <td>ABS to receive accident</td>\n",
       "      <td>Finished</td>\n",
       "      <td>2014-07-02</td>\n",
       "      <td>10:08:00</td>\n",
       "      <td>No</td>\n",
       "      <td>Collision with vehicle</td>\n",
       "      <td>...</td>\n",
       "      <td>Arterial Other</td>\n",
       "      <td>Arterial Other,Local Road</td>\n",
       "      <td>Divided</td>\n",
       "      <td>Undivided,Divided</td>\n",
       "      <td>Metro</td>\n",
       "      <td>7</td>\n",
       "      <td>0</td>\n",
       "      <td>10</td>\n",
       "      <td>2</td>\n",
       "      <td>Injury</td>\n",
       "    </tr>\n",
       "    <tr>\n",
       "      <th>4</th>\n",
       "      <td>2484073.998</td>\n",
       "      <td>2409123.682</td>\n",
       "      <td>5</td>\n",
       "      <td>T20140013567</td>\n",
       "      <td>ABS to receive accident</td>\n",
       "      <td>Finished</td>\n",
       "      <td>2014-07-02</td>\n",
       "      <td>09:12:00</td>\n",
       "      <td>No</td>\n",
       "      <td>Collision with vehicle</td>\n",
       "      <td>...</td>\n",
       "      <td>Arterial Other</td>\n",
       "      <td>Arterial Other,Local Road</td>\n",
       "      <td>Undivided</td>\n",
       "      <td>Undivided</td>\n",
       "      <td>Metro</td>\n",
       "      <td>7</td>\n",
       "      <td>0</td>\n",
       "      <td>9</td>\n",
       "      <td>1</td>\n",
       "      <td>Injury</td>\n",
       "    </tr>\n",
       "  </tbody>\n",
       "</table>\n",
       "<p>5 rows × 70 columns</p>\n",
       "</div>"
      ],
      "text/plain": [
       "             X            Y  OBJECTID   ACCIDENT_NO                 ABS_CODE  \\\n",
       "0  2498217.170  2454870.252         1  T20140013514  ABS to receive accident   \n",
       "1  2502934.960  2423005.289         2  T20140013549  ABS to receive accident   \n",
       "2  2520154.039  2395621.674         3  T20140013561  ABS to receive accident   \n",
       "3  2473719.463  2402357.319         4  T20140013563  ABS to receive accident   \n",
       "4  2484073.998  2409123.682         5  T20140013567  ABS to receive accident   \n",
       "\n",
       "  ACCIDENT_STATUS ACCIDENT_DATE ACCIDENT_TIME ALCOHOLTIME  \\\n",
       "0      Unfinished    2014-07-01      13:09:00          No   \n",
       "1        Finished    2014-07-02      00:01:00         Yes   \n",
       "2        Finished    2014-07-02      08:30:00          No   \n",
       "3        Finished    2014-07-02      10:08:00          No   \n",
       "4        Finished    2014-07-02      09:12:00          No   \n",
       "\n",
       "                      ACCIDENT_TYPE  ...               RMA  \\\n",
       "0            Collision with vehicle  ...  Arterial Highway   \n",
       "1            Collision with vehicle  ...    Arterial Other   \n",
       "2  collision with some other object  ...        Local Road   \n",
       "3            Collision with vehicle  ...    Arterial Other   \n",
       "4            Collision with vehicle  ...    Arterial Other   \n",
       "\n",
       "                       RMA_ALL    DIVIDED        DIVIDED_ALL STAT_DIV_NAME  \\\n",
       "0  Local Road,Arterial Highway  Undivided          Undivided       Country   \n",
       "1               Arterial Other  Undivided          Undivided         Metro   \n",
       "2                   Local Road  Undivided          Undivided         Metro   \n",
       "3    Arterial Other,Local Road    Divided  Undivided,Divided         Metro   \n",
       "4    Arterial Other,Local Road  Undivided          Undivided         Metro   \n",
       "\n",
       "  month weekend hour time_of_day  accident_seriousness  \n",
       "0     7       0   13           3                Injury  \n",
       "1     7       0    0           7                Injury  \n",
       "2     7       0    8           1                Injury  \n",
       "3     7       0   10           2                Injury  \n",
       "4     7       0    9           1                Injury  \n",
       "\n",
       "[5 rows x 70 columns]"
      ]
     },
     "execution_count": 6,
     "metadata": {},
     "output_type": "execute_result"
    }
   ],
   "source": [
    "dataset.head()"
   ]
  },
  {
   "cell_type": "code",
   "execution_count": 7,
   "metadata": {},
   "outputs": [
    {
     "name": "stdout",
     "output_type": "stream",
     "text": [
      "<class 'pandas.core.frame.DataFrame'>\n",
      "RangeIndex: 77416 entries, 0 to 77415\n",
      "Data columns (total 70 columns):\n",
      " #   Column                Non-Null Count  Dtype  \n",
      "---  ------                --------------  -----  \n",
      " 0   X                     77416 non-null  float64\n",
      " 1   Y                     77416 non-null  float64\n",
      " 2   OBJECTID              77416 non-null  int64  \n",
      " 3   ACCIDENT_NO           77416 non-null  object \n",
      " 4   ABS_CODE              77416 non-null  object \n",
      " 5   ACCIDENT_STATUS       77416 non-null  object \n",
      " 6   ACCIDENT_DATE         77416 non-null  object \n",
      " 7   ACCIDENT_TIME         77416 non-null  object \n",
      " 8   ALCOHOLTIME           77416 non-null  object \n",
      " 9   ACCIDENT_TYPE         77416 non-null  object \n",
      " 10  DAY_OF_WEEK           77416 non-null  object \n",
      " 11  DCA_CODE              77416 non-null  object \n",
      " 12  HIT_RUN_FLAG          77416 non-null  object \n",
      " 13  LIGHT_CONDITION       77416 non-null  object \n",
      " 14  POLICE_ATTEND         77416 non-null  object \n",
      " 15  ROAD_GEOMETRY         77416 non-null  object \n",
      " 16  SEVERITY              77416 non-null  object \n",
      " 17  SPEED_ZONE            77416 non-null  object \n",
      " 18  RUN_OFFROAD           77416 non-null  object \n",
      " 19  NODE_ID               77416 non-null  int64  \n",
      " 20  LONGITUDE             77416 non-null  float64\n",
      " 21  LATITUDE              77416 non-null  float64\n",
      " 22  NODE_TYPE             77416 non-null  object \n",
      " 23  LGA_NAME              77416 non-null  object \n",
      " 24  REGION_NAME           77416 non-null  object \n",
      " 25  VICGRID_X             77416 non-null  float64\n",
      " 26  VICGRID_Y             77416 non-null  float64\n",
      " 27  TOTAL_PERSONS         77416 non-null  float64\n",
      " 28  INJ_OR_FATAL          77416 non-null  float64\n",
      " 29  FATALITY              77416 non-null  float64\n",
      " 30  SERIOUSINJURY         77416 non-null  float64\n",
      " 31  OTHERINJURY           77416 non-null  float64\n",
      " 32  NONINJURED            77416 non-null  float64\n",
      " 33  MALES                 77416 non-null  float64\n",
      " 34  FEMALES               77416 non-null  float64\n",
      " 35  BICYCLIST             77416 non-null  float64\n",
      " 36  PASSENGER             77416 non-null  float64\n",
      " 37  DRIVER                77416 non-null  float64\n",
      " 38  PEDESTRIAN            77416 non-null  float64\n",
      " 39  PILLION               77416 non-null  float64\n",
      " 40  MOTORIST              77416 non-null  float64\n",
      " 41  UNKNOWN               77416 non-null  float64\n",
      " 42  PED_CYCLIST_5_12      77416 non-null  float64\n",
      " 43  PED_CYCLIST_13_18     77416 non-null  float64\n",
      " 44  OLD_PEDESTRIAN        77416 non-null  float64\n",
      " 45  OLD_DRIVER            77416 non-null  float64\n",
      " 46  YOUNG_DRIVER          77416 non-null  float64\n",
      " 47  ALCOHOL_RELATED       77416 non-null  object \n",
      " 48  UNLICENCSED           77416 non-null  float64\n",
      " 49  NO_OF_VEHICLES        77416 non-null  float64\n",
      " 50  HEAVYVEHICLE          77416 non-null  float64\n",
      " 51  PASSENGERVEHICLE      77416 non-null  float64\n",
      " 52  MOTORCYCLE            77416 non-null  float64\n",
      " 53  PUBLICVEHICLE         77416 non-null  float64\n",
      " 54  DEG_URBAN_NAME        77416 non-null  object \n",
      " 55  DEG_URBAN_ALL         77416 non-null  object \n",
      " 56  LGA_NAME_ALL          77416 non-null  object \n",
      " 57  REGION_NAME_ALL       77416 non-null  object \n",
      " 58  SRNS                  77416 non-null  object \n",
      " 59  SRNS_ALL              77416 non-null  object \n",
      " 60  RMA                   77416 non-null  object \n",
      " 61  RMA_ALL               77416 non-null  object \n",
      " 62  DIVIDED               77416 non-null  object \n",
      " 63  DIVIDED_ALL           77416 non-null  object \n",
      " 64  STAT_DIV_NAME         77416 non-null  object \n",
      " 65  month                 77416 non-null  int64  \n",
      " 66  weekend               77416 non-null  int64  \n",
      " 67  hour                  77416 non-null  int64  \n",
      " 68  time_of_day           77416 non-null  int64  \n",
      " 69  accident_seriousness  77416 non-null  object \n",
      "dtypes: float64(32), int64(6), object(32)\n",
      "memory usage: 41.3+ MB\n"
     ]
    }
   ],
   "source": [
    "dataset.info()"
   ]
  },
  {
   "cell_type": "code",
   "execution_count": 8,
   "metadata": {},
   "outputs": [
    {
     "data": {
      "text/plain": [
       "<Figure size 864x432 with 0 Axes>"
      ]
     },
     "execution_count": 8,
     "metadata": {},
     "output_type": "execute_result"
    },
    {
     "data": {
      "text/plain": [
       "Text(0.5, 1.0, 'Accident Severity')"
      ]
     },
     "execution_count": 8,
     "metadata": {},
     "output_type": "execute_result"
    },
    {
     "data": {
      "text/plain": [
       "Text(0.5, 0, '')"
      ]
     },
     "execution_count": 8,
     "metadata": {},
     "output_type": "execute_result"
    },
    {
     "data": {
      "text/plain": [
       "Text(0, 0.5, '\\nNumber of Accidents\\n')"
      ]
     },
     "execution_count": 8,
     "metadata": {},
     "output_type": "execute_result"
    },
    {
     "data": {
      "text/plain": [
       "(array([0, 1]), <a list of 2 Text xticklabel objects>)"
      ]
     },
     "execution_count": 8,
     "metadata": {},
     "output_type": "execute_result"
    },
    {
     "data": {
      "text/plain": [
       "(array([    0., 10000., 20000., 30000., 40000., 50000.]),\n",
       " <a list of 6 Text yticklabel objects>)"
      ]
     },
     "execution_count": 8,
     "metadata": {},
     "output_type": "execute_result"
    },
    {
     "data": {
      "image/png": "[encoded data removed]",
      "text/plain": [
       "<Figure size 864x432 with 1 Axes>"
      ]
     },
     "metadata": {
      "needs_background": "light"
     },
     "output_type": "display_data"
    }
   ],
   "source": [
    "plt.figure(figsize=(12,6))\n",
    "ax=sns.countplot(x=\"accident_seriousness\", palette=\"magma\", data=dataset)\n",
    "\n",
    "plt.title(\"Accident Severity\",fontsize=25,fontweight=\"bold\")\n",
    "plt.xlabel(\"\", fontsize=15, fontweight=\"bold\")\n",
    "plt.ylabel(\"\\nNumber of Accidents\\n\", fontsize=15, fontweight=\"bold\")\n",
    "plt.xticks(fontsize=18)\n",
    "plt.yticks(fontsize=12)\n",
    "sns.despine(top=True, right=True, left=True, bottom=False)\n",
    "plt.savefig('accident_seriousness.png')\n",
    "plt.show()"
   ]
  },
  {
   "cell_type": "markdown",
   "metadata": {},
   "source": [
    "#### Converting 'Object' to 'category' dtype - Saves memory"
   ]
  },
  {
   "cell_type": "code",
   "execution_count": 9,
   "metadata": {},
   "outputs": [],
   "source": [
    "for col in set(dataset.columns) - set(dataset.describe().columns):\n",
    "    dataset[col] = dataset[col].astype('category')"
   ]
  },
  {
   "cell_type": "code",
   "execution_count": 10,
   "metadata": {},
   "outputs": [],
   "source": [
    "dataset = dataset.drop(['SEVERITY','X','Y','OBJECTID','ACCIDENT_NO'],axis=1)"
   ]
  },
  {
   "cell_type": "code",
   "execution_count": 11,
   "metadata": {},
   "outputs": [],
   "source": [
    "#,'X','Y','OBJECTID','ACCIDENT_NO'"
   ]
  },
  {
   "cell_type": "code",
   "execution_count": 12,
   "metadata": {},
   "outputs": [
    {
     "name": "stdout",
     "output_type": "stream",
     "text": [
      "0    44909\n",
      "1    32507\n",
      "Name: accident_seriousness, dtype: int64\n"
     ]
    }
   ],
   "source": [
    "encoding = {\n",
    "\"accident_seriousness\": {\"Injury\": 0, \"Serious/Fatal\": 1}\n",
    "}\n",
    "dataset.replace(encoding, inplace=True)\n",
    "print(dataset['accident_seriousness'].value_counts())"
   ]
  },
  {
   "cell_type": "code",
   "execution_count": 13,
   "metadata": {},
   "outputs": [
    {
     "name": "stdout",
     "output_type": "stream",
     "text": [
      "<class 'pandas.core.frame.DataFrame'>\n",
      "RangeIndex: 77416 entries, 0 to 77415\n",
      "Data columns (total 65 columns):\n",
      " #   Column                Non-Null Count  Dtype   \n",
      "---  ------                --------------  -----   \n",
      " 0   ABS_CODE              77416 non-null  category\n",
      " 1   ACCIDENT_STATUS       77416 non-null  category\n",
      " 2   ACCIDENT_DATE         77416 non-null  category\n",
      " 3   ACCIDENT_TIME         77416 non-null  category\n",
      " 4   ALCOHOLTIME           77416 non-null  category\n",
      " 5   ACCIDENT_TYPE         77416 non-null  category\n",
      " 6   DAY_OF_WEEK           77416 non-null  category\n",
      " 7   DCA_CODE              77416 non-null  category\n",
      " 8   HIT_RUN_FLAG          77416 non-null  category\n",
      " 9   LIGHT_CONDITION       77416 non-null  category\n",
      " 10  POLICE_ATTEND         77416 non-null  category\n",
      " 11  ROAD_GEOMETRY         77416 non-null  category\n",
      " 12  SPEED_ZONE            77416 non-null  category\n",
      " 13  RUN_OFFROAD           77416 non-null  category\n",
      " 14  NODE_ID               77416 non-null  int64   \n",
      " 15  LONGITUDE             77416 non-null  float64 \n",
      " 16  LATITUDE              77416 non-null  float64 \n",
      " 17  NODE_TYPE             77416 non-null  category\n",
      " 18  LGA_NAME              77416 non-null  category\n",
      " 19  REGION_NAME           77416 non-null  category\n",
      " 20  VICGRID_X             77416 non-null  float64 \n",
      " 21  VICGRID_Y             77416 non-null  float64 \n",
      " 22  TOTAL_PERSONS         77416 non-null  float64 \n",
      " 23  INJ_OR_FATAL          77416 non-null  float64 \n",
      " 24  FATALITY              77416 non-null  float64 \n",
      " 25  SERIOUSINJURY         77416 non-null  float64 \n",
      " 26  OTHERINJURY           77416 non-null  float64 \n",
      " 27  NONINJURED            77416 non-null  float64 \n",
      " 28  MALES                 77416 non-null  float64 \n",
      " 29  FEMALES               77416 non-null  float64 \n",
      " 30  BICYCLIST             77416 non-null  float64 \n",
      " 31  PASSENGER             77416 non-null  float64 \n",
      " 32  DRIVER                77416 non-null  float64 \n",
      " 33  PEDESTRIAN            77416 non-null  float64 \n",
      " 34  PILLION               77416 non-null  float64 \n",
      " 35  MOTORIST              77416 non-null  float64 \n",
      " 36  UNKNOWN               77416 non-null  float64 \n",
      " 37  PED_CYCLIST_5_12      77416 non-null  float64 \n",
      " 38  PED_CYCLIST_13_18     77416 non-null  float64 \n",
      " 39  OLD_PEDESTRIAN        77416 non-null  float64 \n",
      " 40  OLD_DRIVER            77416 non-null  float64 \n",
      " 41  YOUNG_DRIVER          77416 non-null  float64 \n",
      " 42  ALCOHOL_RELATED       77416 non-null  category\n",
      " 43  UNLICENCSED           77416 non-null  float64 \n",
      " 44  NO_OF_VEHICLES        77416 non-null  float64 \n",
      " 45  HEAVYVEHICLE          77416 non-null  float64 \n",
      " 46  PASSENGERVEHICLE      77416 non-null  float64 \n",
      " 47  MOTORCYCLE            77416 non-null  float64 \n",
      " 48  PUBLICVEHICLE         77416 non-null  float64 \n",
      " 49  DEG_URBAN_NAME        77416 non-null  category\n",
      " 50  DEG_URBAN_ALL         77416 non-null  category\n",
      " 51  LGA_NAME_ALL          77416 non-null  category\n",
      " 52  REGION_NAME_ALL       77416 non-null  category\n",
      " 53  SRNS                  77416 non-null  category\n",
      " 54  SRNS_ALL              77416 non-null  category\n",
      " 55  RMA                   77416 non-null  category\n",
      " 56  RMA_ALL               77416 non-null  category\n",
      " 57  DIVIDED               77416 non-null  category\n",
      " 58  DIVIDED_ALL           77416 non-null  category\n",
      " 59  STAT_DIV_NAME         77416 non-null  category\n",
      " 60  month                 77416 non-null  int64   \n",
      " 61  weekend               77416 non-null  int64   \n",
      " 62  hour                  77416 non-null  int64   \n",
      " 63  time_of_day           77416 non-null  int64   \n",
      " 64  accident_seriousness  77416 non-null  int64   \n",
      "dtypes: category(29), float64(30), int64(6)\n",
      "memory usage: 23.8 MB\n"
     ]
    }
   ],
   "source": [
    "dataset.info()"
   ]
  },
  {
   "cell_type": "markdown",
   "metadata": {},
   "source": [
    "### Random Sampling - removed rows at random to speed up model run times (for testing purposes only) \n",
    "Considering the imbalance of classes in the target variable, it may be worth using random stratified sampling to maintain proportionality of classes of the original dataset (Stratified sampling not carried out here however)"
   ]
  },
  {
   "cell_type": "code",
   "execution_count": 14,
   "metadata": {},
   "outputs": [],
   "source": [
    "np.random.seed(150)\n",
    "\n",
    "remove_n = 57416 #Sample size to remove from original dataset\n",
    "df = dataset\n",
    "drop_indices = np.random.choice(df.index, remove_n, replace=False)\n",
    "df_subset = df.drop(drop_indices)"
   ]
  },
  {
   "cell_type": "code",
   "execution_count": 15,
   "metadata": {},
   "outputs": [
    {
     "data": {
      "text/plain": [
       "(20000, 65)"
      ]
     },
     "execution_count": 15,
     "metadata": {},
     "output_type": "execute_result"
    },
    {
     "data": {
      "text/html": [
       "<div>\n",
       "<style scoped>\n",
       "    .dataframe tbody tr th:only-of-type {\n",
       "        vertical-align: middle;\n",
       "    }\n",
       "\n",
       "    .dataframe tbody tr th {\n",
       "        vertical-align: top;\n",
       "    }\n",
       "\n",
       "    .dataframe thead th {\n",
       "        text-align: right;\n",
       "    }\n",
       "</style>\n",
       "<table border=\"1\" class=\"dataframe\">\n",
       "  <thead>\n",
       "    <tr style=\"text-align: right;\">\n",
       "      <th></th>\n",
       "      <th>ABS_CODE</th>\n",
       "      <th>ACCIDENT_STATUS</th>\n",
       "      <th>ACCIDENT_DATE</th>\n",
       "      <th>ACCIDENT_TIME</th>\n",
       "      <th>ALCOHOLTIME</th>\n",
       "      <th>ACCIDENT_TYPE</th>\n",
       "      <th>DAY_OF_WEEK</th>\n",
       "      <th>DCA_CODE</th>\n",
       "      <th>HIT_RUN_FLAG</th>\n",
       "      <th>LIGHT_CONDITION</th>\n",
       "      <th>...</th>\n",
       "      <th>RMA</th>\n",
       "      <th>RMA_ALL</th>\n",
       "      <th>DIVIDED</th>\n",
       "      <th>DIVIDED_ALL</th>\n",
       "      <th>STAT_DIV_NAME</th>\n",
       "      <th>month</th>\n",
       "      <th>weekend</th>\n",
       "      <th>hour</th>\n",
       "      <th>time_of_day</th>\n",
       "      <th>accident_seriousness</th>\n",
       "    </tr>\n",
       "  </thead>\n",
       "  <tbody>\n",
       "    <tr>\n",
       "      <th>1</th>\n",
       "      <td>ABS to receive accident</td>\n",
       "      <td>Finished</td>\n",
       "      <td>2014-07-02</td>\n",
       "      <td>00:01:00</td>\n",
       "      <td>Yes</td>\n",
       "      <td>Collision with vehicle</td>\n",
       "      <td>Wednesday</td>\n",
       "      <td>U TURN</td>\n",
       "      <td>No</td>\n",
       "      <td>Dark Street lights on</td>\n",
       "      <td>...</td>\n",
       "      <td>Arterial Other</td>\n",
       "      <td>Arterial Other</td>\n",
       "      <td>Undivided</td>\n",
       "      <td>Undivided</td>\n",
       "      <td>Metro</td>\n",
       "      <td>7</td>\n",
       "      <td>0</td>\n",
       "      <td>0</td>\n",
       "      <td>7</td>\n",
       "      <td>0</td>\n",
       "    </tr>\n",
       "    <tr>\n",
       "      <th>5</th>\n",
       "      <td>ABS to receive accident</td>\n",
       "      <td>Finished</td>\n",
       "      <td>2014-07-02</td>\n",
       "      <td>12:20:00</td>\n",
       "      <td>No</td>\n",
       "      <td>Collision with a fixed object</td>\n",
       "      <td>Wednesday</td>\n",
       "      <td>OFF RIGHT BEND INTO OBJECT/PARKED VEHICLE</td>\n",
       "      <td>No</td>\n",
       "      <td>Day</td>\n",
       "      <td>...</td>\n",
       "      <td>Local Road</td>\n",
       "      <td>Local Road</td>\n",
       "      <td>Undivided</td>\n",
       "      <td>Undivided</td>\n",
       "      <td>Metro</td>\n",
       "      <td>7</td>\n",
       "      <td>0</td>\n",
       "      <td>12</td>\n",
       "      <td>3</td>\n",
       "      <td>1</td>\n",
       "    </tr>\n",
       "    <tr>\n",
       "      <th>22</th>\n",
       "      <td>ABS to receive accident</td>\n",
       "      <td>Finished</td>\n",
       "      <td>2014-07-01</td>\n",
       "      <td>19:35:00</td>\n",
       "      <td>Yes</td>\n",
       "      <td>Struck Pedestrian</td>\n",
       "      <td>Tuesday</td>\n",
       "      <td>PED NEAR SIDE. PED HIT BY VEHICLE FROM THE RIGHT.</td>\n",
       "      <td>No</td>\n",
       "      <td>Dark Street lights on</td>\n",
       "      <td>...</td>\n",
       "      <td>Arterial Other</td>\n",
       "      <td>Arterial Other,Local Road</td>\n",
       "      <td>Undivided</td>\n",
       "      <td>Undivided</td>\n",
       "      <td>Metro</td>\n",
       "      <td>7</td>\n",
       "      <td>0</td>\n",
       "      <td>19</td>\n",
       "      <td>6</td>\n",
       "      <td>1</td>\n",
       "    </tr>\n",
       "    <tr>\n",
       "      <th>23</th>\n",
       "      <td>ABS to receive accident</td>\n",
       "      <td>Finished</td>\n",
       "      <td>2014-07-02</td>\n",
       "      <td>15:41:00</td>\n",
       "      <td>No</td>\n",
       "      <td>Collision with a fixed object</td>\n",
       "      <td>Wednesday</td>\n",
       "      <td>LEFT OFF CARRIAGEWAY INTO OBJECT/PARKED VEHICLE</td>\n",
       "      <td>No</td>\n",
       "      <td>Day</td>\n",
       "      <td>...</td>\n",
       "      <td>Local Road</td>\n",
       "      <td>Local Road</td>\n",
       "      <td>Undivided</td>\n",
       "      <td>Undivided</td>\n",
       "      <td>Metro</td>\n",
       "      <td>7</td>\n",
       "      <td>0</td>\n",
       "      <td>15</td>\n",
       "      <td>4</td>\n",
       "      <td>1</td>\n",
       "    </tr>\n",
       "    <tr>\n",
       "      <th>26</th>\n",
       "      <td>ABS to receive accident</td>\n",
       "      <td>Finished</td>\n",
       "      <td>2014-07-01</td>\n",
       "      <td>20:50:00</td>\n",
       "      <td>Yes</td>\n",
       "      <td>Collision with vehicle</td>\n",
       "      <td>Tuesday</td>\n",
       "      <td>RIGHT NEAR (INTERSECTIONS ONLY)</td>\n",
       "      <td>No</td>\n",
       "      <td>Dark Street lights off</td>\n",
       "      <td>...</td>\n",
       "      <td>Arterial Highway</td>\n",
       "      <td>Arterial Highway</td>\n",
       "      <td>Divided</td>\n",
       "      <td>Undivided,Divided</td>\n",
       "      <td>Metro</td>\n",
       "      <td>7</td>\n",
       "      <td>0</td>\n",
       "      <td>20</td>\n",
       "      <td>6</td>\n",
       "      <td>0</td>\n",
       "    </tr>\n",
       "  </tbody>\n",
       "</table>\n",
       "<p>5 rows × 65 columns</p>\n",
       "</div>"
      ],
      "text/plain": [
       "                   ABS_CODE ACCIDENT_STATUS ACCIDENT_DATE ACCIDENT_TIME  \\\n",
       "1   ABS to receive accident        Finished    2014-07-02      00:01:00   \n",
       "5   ABS to receive accident        Finished    2014-07-02      12:20:00   \n",
       "22  ABS to receive accident        Finished    2014-07-01      19:35:00   \n",
       "23  ABS to receive accident        Finished    2014-07-02      15:41:00   \n",
       "26  ABS to receive accident        Finished    2014-07-01      20:50:00   \n",
       "\n",
       "   ALCOHOLTIME                  ACCIDENT_TYPE DAY_OF_WEEK  \\\n",
       "1          Yes         Collision with vehicle   Wednesday   \n",
       "5           No  Collision with a fixed object   Wednesday   \n",
       "22         Yes              Struck Pedestrian     Tuesday   \n",
       "23          No  Collision with a fixed object   Wednesday   \n",
       "26         Yes         Collision with vehicle     Tuesday   \n",
       "\n",
       "                                             DCA_CODE HIT_RUN_FLAG  \\\n",
       "1                                              U TURN           No   \n",
       "5           OFF RIGHT BEND INTO OBJECT/PARKED VEHICLE           No   \n",
       "22  PED NEAR SIDE. PED HIT BY VEHICLE FROM THE RIGHT.           No   \n",
       "23    LEFT OFF CARRIAGEWAY INTO OBJECT/PARKED VEHICLE           No   \n",
       "26                    RIGHT NEAR (INTERSECTIONS ONLY)           No   \n",
       "\n",
       "           LIGHT_CONDITION  ...               RMA                    RMA_ALL  \\\n",
       "1    Dark Street lights on  ...    Arterial Other             Arterial Other   \n",
       "5                      Day  ...        Local Road                 Local Road   \n",
       "22   Dark Street lights on  ...    Arterial Other  Arterial Other,Local Road   \n",
       "23                     Day  ...        Local Road                 Local Road   \n",
       "26  Dark Street lights off  ...  Arterial Highway           Arterial Highway   \n",
       "\n",
       "      DIVIDED        DIVIDED_ALL  STAT_DIV_NAME  month  weekend hour  \\\n",
       "1   Undivided          Undivided          Metro      7        0    0   \n",
       "5   Undivided          Undivided          Metro      7        0   12   \n",
       "22  Undivided          Undivided          Metro      7        0   19   \n",
       "23  Undivided          Undivided          Metro      7        0   15   \n",
       "26    Divided  Undivided,Divided          Metro      7        0   20   \n",
       "\n",
       "   time_of_day accident_seriousness  \n",
       "1            7                    0  \n",
       "5            3                    1  \n",
       "22           6                    1  \n",
       "23           4                    1  \n",
       "26           6                    0  \n",
       "\n",
       "[5 rows x 65 columns]"
      ]
     },
     "execution_count": 15,
     "metadata": {},
     "output_type": "execute_result"
    }
   ],
   "source": [
    "df_subset.shape\n",
    "df_subset.head()"
   ]
  },
  {
   "cell_type": "code",
   "execution_count": 16,
   "metadata": {},
   "outputs": [
    {
     "data": {
      "text/plain": [
       "0    11621\n",
       "1     8379\n",
       "Name: accident_seriousness, dtype: int64"
      ]
     },
     "execution_count": 16,
     "metadata": {},
     "output_type": "execute_result"
    }
   ],
   "source": [
    "# 85% to 15% distribution of target class - Proportionality of the original dataset is still maintained\n",
    "df_subset['accident_seriousness'].value_counts()"
   ]
  },
  {
   "cell_type": "markdown",
   "metadata": {},
   "source": [
    "### Splitting target variable from predictor variables"
   ]
  },
  {
   "cell_type": "code",
   "execution_count": 17,
   "metadata": {},
   "outputs": [],
   "source": [
    "dataset_X = df_subset.drop('accident_seriousness', axis=1)  \n",
    "dataset_Y = df_subset['accident_seriousness']  "
   ]
  },
  {
   "cell_type": "code",
   "execution_count": 18,
   "metadata": {},
   "outputs": [],
   "source": [
    "# Converting independent categorical features to Numerical by creating Dummy variables\n",
    "\n",
    "dataset_X_dummy = pd.get_dummies(dataset_X)\n",
    "#print(dataset_X_dummy.head())"
   ]
  },
  {
   "cell_type": "code",
   "execution_count": 19,
   "metadata": {},
   "outputs": [
    {
     "data": {
      "text/plain": [
       "(20000, 3884)"
      ]
     },
     "execution_count": 19,
     "metadata": {},
     "output_type": "execute_result"
    }
   ],
   "source": [
    "dataset_X_dummy.shape"
   ]
  },
  {
   "cell_type": "markdown",
   "metadata": {},
   "source": [
    "## Feature Selection"
   ]
  },
  {
   "cell_type": "markdown",
   "metadata": {},
   "source": [
    "### 1. Applying VarianceThreshold filter"
   ]
  },
  {
   "cell_type": "code",
   "execution_count": 20,
   "metadata": {},
   "outputs": [],
   "source": [
    "from sklearn.feature_selection import VarianceThreshold\n",
    "\n",
    "# threshold set to 87% for variance \n",
    "# i.e. if 87% of the column data is the same (i.e. low variation), the column will not be as useful\n",
    "# in the prediction\n",
    "thresh=(.85 * (1 - .85))"
   ]
  },
  {
   "cell_type": "code",
   "execution_count": 21,
   "metadata": {},
   "outputs": [],
   "source": [
    "# Wrapper function to identify low variance features and remove them from the dataframe \n",
    "\n",
    "def get_low_variance_columns(dframe=None, columns=None,\n",
    "                             skip_columns=None, thresh=0.0,\n",
    "                             autoremove=False):\n",
    "    try:\n",
    "        # get list of all the original df columns\n",
    "        all_columns = dframe.columns\n",
    "\n",
    "        # remove `skip_columns`\n",
    "        remaining_columns = all_columns.drop(skip_columns)\n",
    "\n",
    "        # get length of new index\n",
    "        max_index = len(remaining_columns) - 1\n",
    "\n",
    "        # get indices for `skip_columns`\n",
    "        skipped_idx = [all_columns.get_loc(column)\n",
    "                       for column\n",
    "                       in skip_columns]\n",
    "\n",
    "        # adjust insert location by the number of columns removed\n",
    "        # (for non-zero insertion locations) to keep relative\n",
    "        # locations intact\n",
    "        for idx, item in enumerate(skipped_idx):\n",
    "            if item > max_index:\n",
    "                diff = item - max_index\n",
    "                skipped_idx[idx] -= diff\n",
    "            if item == max_index:\n",
    "                diff = item - len(skip_columns)\n",
    "                skipped_idx[idx] -= diff\n",
    "            if idx == 0:\n",
    "                skipped_idx[idx] = item\n",
    "\n",
    "        # get values of `skip_columns`\n",
    "        skipped_values = dframe.iloc[:, skipped_idx].values\n",
    "\n",
    "        # get dataframe values\n",
    "        X = dframe.loc[:, remaining_columns].values\n",
    "\n",
    "        # instantiate VarianceThreshold object\n",
    "        vt = VarianceThreshold(threshold=thresh)\n",
    "\n",
    "        # fit vt to data\n",
    "        vt.fit(X)\n",
    "\n",
    "        # get the indices of the features that are being kept\n",
    "        feature_indices = vt.get_support(indices=True)\n",
    "\n",
    "        # remove low-variance columns from index\n",
    "        feature_names = [remaining_columns[idx]\n",
    "                         for idx, _\n",
    "                         in enumerate(remaining_columns)\n",
    "                         if idx\n",
    "                         in feature_indices]\n",
    "\n",
    "        # get the columns to be removed\n",
    "        removed_features = list(np.setdiff1d(remaining_columns,\n",
    "                                             feature_names))\n",
    "        print(\"Found {0} low-variance columns.\"\n",
    "              .format(len(removed_features)))\n",
    "\n",
    "        # remove the columns\n",
    "        if autoremove:\n",
    "            print(\"Removing low-variance features.\")\n",
    "            # remove the low-variance columns\n",
    "            X_removed = vt.transform(X)\n",
    "\n",
    "            print(\"Reassembling the dataframe (with low-variance \"\n",
    "                  \"features removed).\")\n",
    "            # re-assemble the dataframe\n",
    "            dframe = pd.DataFrame(data=X_removed,\n",
    "                                  columns=feature_names)\n",
    "\n",
    "            # add back the `skip_columns`\n",
    "            for idx, index in enumerate(skipped_idx):\n",
    "                dframe.insert(loc=index,\n",
    "                              column=skip_columns[idx],\n",
    "                              value=skipped_values[:, idx])\n",
    "            print(\"Succesfully removed low-variance columns.\")\n",
    "\n",
    "        # do not remove columns\n",
    "        else:\n",
    "            print(\"No changes have been made to the dataframe.\")\n",
    "\n",
    "    except Exception as e:\n",
    "        print(e)\n",
    "        print(\"Could not remove low-variance features. Something \"\n",
    "              \"went wrong.\")\n",
    "        pass\n",
    "\n",
    "    return dframe, removed_features"
   ]
  },
  {
   "cell_type": "code",
   "execution_count": 22,
   "metadata": {},
   "outputs": [
    {
     "name": "stdout",
     "output_type": "stream",
     "text": [
      "Found 3816 low-variance columns.\n",
      "Removing low-variance features.\n",
      "Reassembling the dataframe (with low-variance features removed).\n",
      "Succesfully removed low-variance columns.\n"
     ]
    }
   ],
   "source": [
    "# retrieve new dataframe (with low variance features)\n",
    "dataset_X_new, low_var_col = get_low_variance_columns(dataset_X_dummy,[],[],thresh, True) \n",
    "#Set to True to remove low variance columns"
   ]
  },
  {
   "cell_type": "code",
   "execution_count": 23,
   "metadata": {},
   "outputs": [
    {
     "data": {
      "text/plain": [
       "(20000, 68)"
      ]
     },
     "execution_count": 23,
     "metadata": {},
     "output_type": "execute_result"
    }
   ],
   "source": [
    "dataset_X_new.shape"
   ]
  },
  {
   "cell_type": "code",
   "execution_count": 24,
   "metadata": {},
   "outputs": [
    {
     "data": {
      "text/html": [
       "<div>\n",
       "<style scoped>\n",
       "    .dataframe tbody tr th:only-of-type {\n",
       "        vertical-align: middle;\n",
       "    }\n",
       "\n",
       "    .dataframe tbody tr th {\n",
       "        vertical-align: top;\n",
       "    }\n",
       "\n",
       "    .dataframe thead th {\n",
       "        text-align: right;\n",
       "    }\n",
       "</style>\n",
       "<table border=\"1\" class=\"dataframe\">\n",
       "  <thead>\n",
       "    <tr style=\"text-align: right;\">\n",
       "      <th></th>\n",
       "      <th>NODE_ID</th>\n",
       "      <th>LONGITUDE</th>\n",
       "      <th>LATITUDE</th>\n",
       "      <th>VICGRID_X</th>\n",
       "      <th>VICGRID_Y</th>\n",
       "      <th>TOTAL_PERSONS</th>\n",
       "      <th>INJ_OR_FATAL</th>\n",
       "      <th>SERIOUSINJURY</th>\n",
       "      <th>OTHERINJURY</th>\n",
       "      <th>NONINJURED</th>\n",
       "      <th>...</th>\n",
       "      <th>RMA_Arterial Other</th>\n",
       "      <th>RMA_Local Road</th>\n",
       "      <th>RMA_ALL_Arterial Other</th>\n",
       "      <th>RMA_ALL_Local Road</th>\n",
       "      <th>DIVIDED_Divided</th>\n",
       "      <th>DIVIDED_Undivided</th>\n",
       "      <th>DIVIDED_ALL_Divided</th>\n",
       "      <th>DIVIDED_ALL_Undivided</th>\n",
       "      <th>STAT_DIV_NAME_Country</th>\n",
       "      <th>STAT_DIV_NAME_Metro</th>\n",
       "    </tr>\n",
       "  </thead>\n",
       "  <tbody>\n",
       "    <tr>\n",
       "      <th>0</th>\n",
       "      <td>272595.0</td>\n",
       "      <td>-1.000000</td>\n",
       "      <td>-1.000000</td>\n",
       "      <td>2502934.960</td>\n",
       "      <td>2423005.289</td>\n",
       "      <td>4.0</td>\n",
       "      <td>3.0</td>\n",
       "      <td>0.0</td>\n",
       "      <td>3.0</td>\n",
       "      <td>1.0</td>\n",
       "      <td>...</td>\n",
       "      <td>1.0</td>\n",
       "      <td>0.0</td>\n",
       "      <td>1.0</td>\n",
       "      <td>0.0</td>\n",
       "      <td>0.0</td>\n",
       "      <td>1.0</td>\n",
       "      <td>0.0</td>\n",
       "      <td>1.0</td>\n",
       "      <td>0.0</td>\n",
       "      <td>1.0</td>\n",
       "    </tr>\n",
       "    <tr>\n",
       "      <th>1</th>\n",
       "      <td>273095.0</td>\n",
       "      <td>144.962062</td>\n",
       "      <td>-37.842131</td>\n",
       "      <td>2496690.566</td>\n",
       "      <td>2406551.553</td>\n",
       "      <td>1.0</td>\n",
       "      <td>1.0</td>\n",
       "      <td>1.0</td>\n",
       "      <td>0.0</td>\n",
       "      <td>0.0</td>\n",
       "      <td>...</td>\n",
       "      <td>0.0</td>\n",
       "      <td>1.0</td>\n",
       "      <td>0.0</td>\n",
       "      <td>1.0</td>\n",
       "      <td>0.0</td>\n",
       "      <td>1.0</td>\n",
       "      <td>0.0</td>\n",
       "      <td>1.0</td>\n",
       "      <td>0.0</td>\n",
       "      <td>1.0</td>\n",
       "    </tr>\n",
       "    <tr>\n",
       "      <th>2</th>\n",
       "      <td>243678.0</td>\n",
       "      <td>145.049442</td>\n",
       "      <td>-37.957179</td>\n",
       "      <td>2504342.256</td>\n",
       "      <td>2393778.031</td>\n",
       "      <td>2.0</td>\n",
       "      <td>1.0</td>\n",
       "      <td>1.0</td>\n",
       "      <td>0.0</td>\n",
       "      <td>1.0</td>\n",
       "      <td>...</td>\n",
       "      <td>1.0</td>\n",
       "      <td>0.0</td>\n",
       "      <td>0.0</td>\n",
       "      <td>0.0</td>\n",
       "      <td>0.0</td>\n",
       "      <td>1.0</td>\n",
       "      <td>0.0</td>\n",
       "      <td>1.0</td>\n",
       "      <td>0.0</td>\n",
       "      <td>1.0</td>\n",
       "    </tr>\n",
       "    <tr>\n",
       "      <th>3</th>\n",
       "      <td>272511.0</td>\n",
       "      <td>145.049442</td>\n",
       "      <td>-37.957179</td>\n",
       "      <td>2526233.023</td>\n",
       "      <td>2406404.446</td>\n",
       "      <td>1.0</td>\n",
       "      <td>1.0</td>\n",
       "      <td>1.0</td>\n",
       "      <td>0.0</td>\n",
       "      <td>0.0</td>\n",
       "      <td>...</td>\n",
       "      <td>0.0</td>\n",
       "      <td>1.0</td>\n",
       "      <td>0.0</td>\n",
       "      <td>1.0</td>\n",
       "      <td>0.0</td>\n",
       "      <td>1.0</td>\n",
       "      <td>0.0</td>\n",
       "      <td>1.0</td>\n",
       "      <td>0.0</td>\n",
       "      <td>1.0</td>\n",
       "    </tr>\n",
       "    <tr>\n",
       "      <th>4</th>\n",
       "      <td>231516.0</td>\n",
       "      <td>145.074200</td>\n",
       "      <td>-37.982602</td>\n",
       "      <td>2506511.049</td>\n",
       "      <td>2390953.711</td>\n",
       "      <td>2.0</td>\n",
       "      <td>1.0</td>\n",
       "      <td>0.0</td>\n",
       "      <td>1.0</td>\n",
       "      <td>1.0</td>\n",
       "      <td>...</td>\n",
       "      <td>0.0</td>\n",
       "      <td>0.0</td>\n",
       "      <td>0.0</td>\n",
       "      <td>0.0</td>\n",
       "      <td>1.0</td>\n",
       "      <td>0.0</td>\n",
       "      <td>0.0</td>\n",
       "      <td>0.0</td>\n",
       "      <td>0.0</td>\n",
       "      <td>1.0</td>\n",
       "    </tr>\n",
       "  </tbody>\n",
       "</table>\n",
       "<p>5 rows × 68 columns</p>\n",
       "</div>"
      ],
      "text/plain": [
       "    NODE_ID   LONGITUDE   LATITUDE    VICGRID_X    VICGRID_Y  TOTAL_PERSONS  \\\n",
       "0  272595.0   -1.000000  -1.000000  2502934.960  2423005.289            4.0   \n",
       "1  273095.0  144.962062 -37.842131  2496690.566  2406551.553            1.0   \n",
       "2  243678.0  145.049442 -37.957179  2504342.256  2393778.031            2.0   \n",
       "3  272511.0  145.049442 -37.957179  2526233.023  2406404.446            1.0   \n",
       "4  231516.0  145.074200 -37.982602  2506511.049  2390953.711            2.0   \n",
       "\n",
       "   INJ_OR_FATAL  SERIOUSINJURY  OTHERINJURY  NONINJURED  ...  \\\n",
       "0           3.0            0.0          3.0         1.0  ...   \n",
       "1           1.0            1.0          0.0         0.0  ...   \n",
       "2           1.0            1.0          0.0         1.0  ...   \n",
       "3           1.0            1.0          0.0         0.0  ...   \n",
       "4           1.0            0.0          1.0         1.0  ...   \n",
       "\n",
       "   RMA_Arterial Other  RMA_Local Road  RMA_ALL_Arterial Other  \\\n",
       "0                 1.0             0.0                     1.0   \n",
       "1                 0.0             1.0                     0.0   \n",
       "2                 1.0             0.0                     0.0   \n",
       "3                 0.0             1.0                     0.0   \n",
       "4                 0.0             0.0                     0.0   \n",
       "\n",
       "   RMA_ALL_Local Road  DIVIDED_Divided  DIVIDED_Undivided  \\\n",
       "0                 0.0              0.0                1.0   \n",
       "1                 1.0              0.0                1.0   \n",
       "2                 0.0              0.0                1.0   \n",
       "3                 1.0              0.0                1.0   \n",
       "4                 0.0              1.0                0.0   \n",
       "\n",
       "   DIVIDED_ALL_Divided  DIVIDED_ALL_Undivided  STAT_DIV_NAME_Country  \\\n",
       "0                  0.0                    1.0                    0.0   \n",
       "1                  0.0                    1.0                    0.0   \n",
       "2                  0.0                    1.0                    0.0   \n",
       "3                  0.0                    1.0                    0.0   \n",
       "4                  0.0                    0.0                    0.0   \n",
       "\n",
       "   STAT_DIV_NAME_Metro  \n",
       "0                  1.0  \n",
       "1                  1.0  \n",
       "2                  1.0  \n",
       "3                  1.0  \n",
       "4                  1.0  \n",
       "\n",
       "[5 rows x 68 columns]"
      ]
     },
     "execution_count": 24,
     "metadata": {},
     "output_type": "execute_result"
    }
   ],
   "source": [
    "dataset_X_new.head()"
   ]
  },
  {
   "cell_type": "markdown",
   "metadata": {},
   "source": [
    "**Normalizing data** - adjusting values measured on different scales to a notionally common scale (between 0 - 1)"
   ]
  },
  {
   "cell_type": "code",
   "execution_count": 25,
   "metadata": {},
   "outputs": [],
   "source": [
    "dataset_X_normalized=(dataset_X_new-dataset_X_new.min())/(dataset_X_new.max()-dataset_X_new.min())"
   ]
  },
  {
   "cell_type": "code",
   "execution_count": 26,
   "metadata": {},
   "outputs": [
    {
     "data": {
      "text/html": [
       "<div>\n",
       "<style scoped>\n",
       "    .dataframe tbody tr th:only-of-type {\n",
       "        vertical-align: middle;\n",
       "    }\n",
       "\n",
       "    .dataframe tbody tr th {\n",
       "        vertical-align: top;\n",
       "    }\n",
       "\n",
       "    .dataframe thead th {\n",
       "        text-align: right;\n",
       "    }\n",
       "</style>\n",
       "<table border=\"1\" class=\"dataframe\">\n",
       "  <thead>\n",
       "    <tr style=\"text-align: right;\">\n",
       "      <th></th>\n",
       "      <th>NODE_ID</th>\n",
       "      <th>LONGITUDE</th>\n",
       "      <th>LATITUDE</th>\n",
       "      <th>VICGRID_X</th>\n",
       "      <th>VICGRID_Y</th>\n",
       "      <th>TOTAL_PERSONS</th>\n",
       "      <th>INJ_OR_FATAL</th>\n",
       "      <th>SERIOUSINJURY</th>\n",
       "      <th>OTHERINJURY</th>\n",
       "      <th>NONINJURED</th>\n",
       "      <th>...</th>\n",
       "      <th>RMA_Arterial Other</th>\n",
       "      <th>RMA_Local Road</th>\n",
       "      <th>RMA_ALL_Arterial Other</th>\n",
       "      <th>RMA_ALL_Local Road</th>\n",
       "      <th>DIVIDED_Divided</th>\n",
       "      <th>DIVIDED_Undivided</th>\n",
       "      <th>DIVIDED_ALL_Divided</th>\n",
       "      <th>DIVIDED_ALL_Undivided</th>\n",
       "      <th>STAT_DIV_NAME_Country</th>\n",
       "      <th>STAT_DIV_NAME_Metro</th>\n",
       "    </tr>\n",
       "  </thead>\n",
       "  <tbody>\n",
       "    <tr>\n",
       "      <th>0</th>\n",
       "      <td>0.404488</td>\n",
       "      <td>0.000000</td>\n",
       "      <td>1.000000</td>\n",
       "      <td>0.478432</td>\n",
       "      <td>0.273782</td>\n",
       "      <td>0.081081</td>\n",
       "      <td>0.130435</td>\n",
       "      <td>0.000</td>\n",
       "      <td>0.130435</td>\n",
       "      <td>0.027027</td>\n",
       "      <td>...</td>\n",
       "      <td>1.0</td>\n",
       "      <td>0.0</td>\n",
       "      <td>1.0</td>\n",
       "      <td>0.0</td>\n",
       "      <td>0.0</td>\n",
       "      <td>1.0</td>\n",
       "      <td>0.0</td>\n",
       "      <td>1.0</td>\n",
       "      <td>0.0</td>\n",
       "      <td>1.0</td>\n",
       "    </tr>\n",
       "    <tr>\n",
       "      <th>1</th>\n",
       "      <td>0.405230</td>\n",
       "      <td>0.968962</td>\n",
       "      <td>0.030888</td>\n",
       "      <td>0.470431</td>\n",
       "      <td>0.243263</td>\n",
       "      <td>0.000000</td>\n",
       "      <td>0.043478</td>\n",
       "      <td>0.125</td>\n",
       "      <td>0.000000</td>\n",
       "      <td>0.000000</td>\n",
       "      <td>...</td>\n",
       "      <td>0.0</td>\n",
       "      <td>1.0</td>\n",
       "      <td>0.0</td>\n",
       "      <td>1.0</td>\n",
       "      <td>0.0</td>\n",
       "      <td>1.0</td>\n",
       "      <td>0.0</td>\n",
       "      <td>1.0</td>\n",
       "      <td>0.0</td>\n",
       "      <td>1.0</td>\n",
       "    </tr>\n",
       "    <tr>\n",
       "      <th>2</th>\n",
       "      <td>0.361577</td>\n",
       "      <td>0.969543</td>\n",
       "      <td>0.027862</td>\n",
       "      <td>0.480235</td>\n",
       "      <td>0.219570</td>\n",
       "      <td>0.027027</td>\n",
       "      <td>0.043478</td>\n",
       "      <td>0.125</td>\n",
       "      <td>0.000000</td>\n",
       "      <td>0.027027</td>\n",
       "      <td>...</td>\n",
       "      <td>1.0</td>\n",
       "      <td>0.0</td>\n",
       "      <td>0.0</td>\n",
       "      <td>0.0</td>\n",
       "      <td>0.0</td>\n",
       "      <td>1.0</td>\n",
       "      <td>0.0</td>\n",
       "      <td>1.0</td>\n",
       "      <td>0.0</td>\n",
       "      <td>1.0</td>\n",
       "    </tr>\n",
       "    <tr>\n",
       "      <th>3</th>\n",
       "      <td>0.404364</td>\n",
       "      <td>0.969543</td>\n",
       "      <td>0.027862</td>\n",
       "      <td>0.508285</td>\n",
       "      <td>0.242990</td>\n",
       "      <td>0.000000</td>\n",
       "      <td>0.043478</td>\n",
       "      <td>0.125</td>\n",
       "      <td>0.000000</td>\n",
       "      <td>0.000000</td>\n",
       "      <td>...</td>\n",
       "      <td>0.0</td>\n",
       "      <td>1.0</td>\n",
       "      <td>0.0</td>\n",
       "      <td>1.0</td>\n",
       "      <td>0.0</td>\n",
       "      <td>1.0</td>\n",
       "      <td>0.0</td>\n",
       "      <td>1.0</td>\n",
       "      <td>0.0</td>\n",
       "      <td>1.0</td>\n",
       "    </tr>\n",
       "    <tr>\n",
       "      <th>4</th>\n",
       "      <td>0.343529</td>\n",
       "      <td>0.969707</td>\n",
       "      <td>0.027193</td>\n",
       "      <td>0.483014</td>\n",
       "      <td>0.214331</td>\n",
       "      <td>0.027027</td>\n",
       "      <td>0.043478</td>\n",
       "      <td>0.000</td>\n",
       "      <td>0.043478</td>\n",
       "      <td>0.027027</td>\n",
       "      <td>...</td>\n",
       "      <td>0.0</td>\n",
       "      <td>0.0</td>\n",
       "      <td>0.0</td>\n",
       "      <td>0.0</td>\n",
       "      <td>1.0</td>\n",
       "      <td>0.0</td>\n",
       "      <td>0.0</td>\n",
       "      <td>0.0</td>\n",
       "      <td>0.0</td>\n",
       "      <td>1.0</td>\n",
       "    </tr>\n",
       "  </tbody>\n",
       "</table>\n",
       "<p>5 rows × 68 columns</p>\n",
       "</div>"
      ],
      "text/plain": [
       "    NODE_ID  LONGITUDE  LATITUDE  VICGRID_X  VICGRID_Y  TOTAL_PERSONS  \\\n",
       "0  0.404488   0.000000  1.000000   0.478432   0.273782       0.081081   \n",
       "1  0.405230   0.968962  0.030888   0.470431   0.243263       0.000000   \n",
       "2  0.361577   0.969543  0.027862   0.480235   0.219570       0.027027   \n",
       "3  0.404364   0.969543  0.027862   0.508285   0.242990       0.000000   \n",
       "4  0.343529   0.969707  0.027193   0.483014   0.214331       0.027027   \n",
       "\n",
       "   INJ_OR_FATAL  SERIOUSINJURY  OTHERINJURY  NONINJURED  ...  \\\n",
       "0      0.130435          0.000     0.130435    0.027027  ...   \n",
       "1      0.043478          0.125     0.000000    0.000000  ...   \n",
       "2      0.043478          0.125     0.000000    0.027027  ...   \n",
       "3      0.043478          0.125     0.000000    0.000000  ...   \n",
       "4      0.043478          0.000     0.043478    0.027027  ...   \n",
       "\n",
       "   RMA_Arterial Other  RMA_Local Road  RMA_ALL_Arterial Other  \\\n",
       "0                 1.0             0.0                     1.0   \n",
       "1                 0.0             1.0                     0.0   \n",
       "2                 1.0             0.0                     0.0   \n",
       "3                 0.0             1.0                     0.0   \n",
       "4                 0.0             0.0                     0.0   \n",
       "\n",
       "   RMA_ALL_Local Road  DIVIDED_Divided  DIVIDED_Undivided  \\\n",
       "0                 0.0              0.0                1.0   \n",
       "1                 1.0              0.0                1.0   \n",
       "2                 0.0              0.0                1.0   \n",
       "3                 1.0              0.0                1.0   \n",
       "4                 0.0              1.0                0.0   \n",
       "\n",
       "   DIVIDED_ALL_Divided  DIVIDED_ALL_Undivided  STAT_DIV_NAME_Country  \\\n",
       "0                  0.0                    1.0                    0.0   \n",
       "1                  0.0                    1.0                    0.0   \n",
       "2                  0.0                    1.0                    0.0   \n",
       "3                  0.0                    1.0                    0.0   \n",
       "4                  0.0                    0.0                    0.0   \n",
       "\n",
       "   STAT_DIV_NAME_Metro  \n",
       "0                  1.0  \n",
       "1                  1.0  \n",
       "2                  1.0  \n",
       "3                  1.0  \n",
       "4                  1.0  \n",
       "\n",
       "[5 rows x 68 columns]"
      ]
     },
     "execution_count": 26,
     "metadata": {},
     "output_type": "execute_result"
    }
   ],
   "source": [
    "dataset_X_normalized.head()"
   ]
  },
  {
   "cell_type": "code",
   "execution_count": 27,
   "metadata": {},
   "outputs": [],
   "source": [
    "df_X=dataset_X_normalized.round(3) "
   ]
  },
  {
   "cell_type": "code",
   "execution_count": 28,
   "metadata": {},
   "outputs": [
    {
     "data": {
      "text/html": [
       "<div>\n",
       "<style scoped>\n",
       "    .dataframe tbody tr th:only-of-type {\n",
       "        vertical-align: middle;\n",
       "    }\n",
       "\n",
       "    .dataframe tbody tr th {\n",
       "        vertical-align: top;\n",
       "    }\n",
       "\n",
       "    .dataframe thead th {\n",
       "        text-align: right;\n",
       "    }\n",
       "</style>\n",
       "<table border=\"1\" class=\"dataframe\">\n",
       "  <thead>\n",
       "    <tr style=\"text-align: right;\">\n",
       "      <th></th>\n",
       "      <th>NODE_ID</th>\n",
       "      <th>LONGITUDE</th>\n",
       "      <th>LATITUDE</th>\n",
       "      <th>VICGRID_X</th>\n",
       "      <th>VICGRID_Y</th>\n",
       "      <th>TOTAL_PERSONS</th>\n",
       "      <th>INJ_OR_FATAL</th>\n",
       "      <th>SERIOUSINJURY</th>\n",
       "      <th>OTHERINJURY</th>\n",
       "      <th>NONINJURED</th>\n",
       "      <th>...</th>\n",
       "      <th>RMA_Arterial Other</th>\n",
       "      <th>RMA_Local Road</th>\n",
       "      <th>RMA_ALL_Arterial Other</th>\n",
       "      <th>RMA_ALL_Local Road</th>\n",
       "      <th>DIVIDED_Divided</th>\n",
       "      <th>DIVIDED_Undivided</th>\n",
       "      <th>DIVIDED_ALL_Divided</th>\n",
       "      <th>DIVIDED_ALL_Undivided</th>\n",
       "      <th>STAT_DIV_NAME_Country</th>\n",
       "      <th>STAT_DIV_NAME_Metro</th>\n",
       "    </tr>\n",
       "  </thead>\n",
       "  <tbody>\n",
       "    <tr>\n",
       "      <th>0</th>\n",
       "      <td>0.404</td>\n",
       "      <td>0.000</td>\n",
       "      <td>1.000</td>\n",
       "      <td>0.478</td>\n",
       "      <td>0.274</td>\n",
       "      <td>0.081</td>\n",
       "      <td>0.130</td>\n",
       "      <td>0.000</td>\n",
       "      <td>0.13</td>\n",
       "      <td>0.027</td>\n",
       "      <td>...</td>\n",
       "      <td>1.0</td>\n",
       "      <td>0.0</td>\n",
       "      <td>1.0</td>\n",
       "      <td>0.0</td>\n",
       "      <td>0.0</td>\n",
       "      <td>1.0</td>\n",
       "      <td>0.0</td>\n",
       "      <td>1.0</td>\n",
       "      <td>0.0</td>\n",
       "      <td>1.0</td>\n",
       "    </tr>\n",
       "    <tr>\n",
       "      <th>1</th>\n",
       "      <td>0.405</td>\n",
       "      <td>0.969</td>\n",
       "      <td>0.031</td>\n",
       "      <td>0.470</td>\n",
       "      <td>0.243</td>\n",
       "      <td>0.000</td>\n",
       "      <td>0.043</td>\n",
       "      <td>0.125</td>\n",
       "      <td>0.00</td>\n",
       "      <td>0.000</td>\n",
       "      <td>...</td>\n",
       "      <td>0.0</td>\n",
       "      <td>1.0</td>\n",
       "      <td>0.0</td>\n",
       "      <td>1.0</td>\n",
       "      <td>0.0</td>\n",
       "      <td>1.0</td>\n",
       "      <td>0.0</td>\n",
       "      <td>1.0</td>\n",
       "      <td>0.0</td>\n",
       "      <td>1.0</td>\n",
       "    </tr>\n",
       "    <tr>\n",
       "      <th>2</th>\n",
       "      <td>0.362</td>\n",
       "      <td>0.970</td>\n",
       "      <td>0.028</td>\n",
       "      <td>0.480</td>\n",
       "      <td>0.220</td>\n",
       "      <td>0.027</td>\n",
       "      <td>0.043</td>\n",
       "      <td>0.125</td>\n",
       "      <td>0.00</td>\n",
       "      <td>0.027</td>\n",
       "      <td>...</td>\n",
       "      <td>1.0</td>\n",
       "      <td>0.0</td>\n",
       "      <td>0.0</td>\n",
       "      <td>0.0</td>\n",
       "      <td>0.0</td>\n",
       "      <td>1.0</td>\n",
       "      <td>0.0</td>\n",
       "      <td>1.0</td>\n",
       "      <td>0.0</td>\n",
       "      <td>1.0</td>\n",
       "    </tr>\n",
       "  </tbody>\n",
       "</table>\n",
       "<p>3 rows × 68 columns</p>\n",
       "</div>"
      ],
      "text/plain": [
       "   NODE_ID  LONGITUDE  LATITUDE  VICGRID_X  VICGRID_Y  TOTAL_PERSONS  \\\n",
       "0    0.404      0.000     1.000      0.478      0.274          0.081   \n",
       "1    0.405      0.969     0.031      0.470      0.243          0.000   \n",
       "2    0.362      0.970     0.028      0.480      0.220          0.027   \n",
       "\n",
       "   INJ_OR_FATAL  SERIOUSINJURY  OTHERINJURY  NONINJURED  ...  \\\n",
       "0         0.130          0.000         0.13       0.027  ...   \n",
       "1         0.043          0.125         0.00       0.000  ...   \n",
       "2         0.043          0.125         0.00       0.027  ...   \n",
       "\n",
       "   RMA_Arterial Other  RMA_Local Road  RMA_ALL_Arterial Other  \\\n",
       "0                 1.0             0.0                     1.0   \n",
       "1                 0.0             1.0                     0.0   \n",
       "2                 1.0             0.0                     0.0   \n",
       "\n",
       "   RMA_ALL_Local Road  DIVIDED_Divided  DIVIDED_Undivided  \\\n",
       "0                 0.0              0.0                1.0   \n",
       "1                 1.0              0.0                1.0   \n",
       "2                 0.0              0.0                1.0   \n",
       "\n",
       "   DIVIDED_ALL_Divided  DIVIDED_ALL_Undivided  STAT_DIV_NAME_Country  \\\n",
       "0                  0.0                    1.0                    0.0   \n",
       "1                  0.0                    1.0                    0.0   \n",
       "2                  0.0                    1.0                    0.0   \n",
       "\n",
       "   STAT_DIV_NAME_Metro  \n",
       "0                  1.0  \n",
       "1                  1.0  \n",
       "2                  1.0  \n",
       "\n",
       "[3 rows x 68 columns]"
      ]
     },
     "execution_count": 28,
     "metadata": {},
     "output_type": "execute_result"
    }
   ],
   "source": [
    "df_X.head(3)"
   ]
  },
  {
   "cell_type": "code",
   "execution_count": 29,
   "metadata": {},
   "outputs": [
    {
     "data": {
      "text/plain": [
       "0    11621\n",
       "1     8379\n",
       "Name: accident_seriousness, dtype: int64"
      ]
     },
     "execution_count": 29,
     "metadata": {},
     "output_type": "execute_result"
    }
   ],
   "source": [
    "dataset_Y.value_counts()"
   ]
  },
  {
   "cell_type": "code",
   "execution_count": 30,
   "metadata": {},
   "outputs": [],
   "source": [
    "# Splitting data into train and test\n",
    "from sklearn.model_selection import train_test_split"
   ]
  },
  {
   "cell_type": "code",
   "execution_count": 31,
   "metadata": {},
   "outputs": [],
   "source": [
    "# 80 train -20 test split\n",
    "X_train, X_test, y_train, y_test = train_test_split(df_X, dataset_Y, test_size=0.3, random_state=42)"
   ]
  },
  {
   "cell_type": "code",
   "execution_count": 32,
   "metadata": {},
   "outputs": [
    {
     "data": {
      "text/plain": [
       "KNeighborsClassifier()"
      ]
     },
     "execution_count": 32,
     "metadata": {},
     "output_type": "execute_result"
    },
    {
     "name": "stdout",
     "output_type": "stream",
     "text": [
      "0.6003333333333334\n",
      "[[2375 1125]\n",
      " [1273 1227]]\n",
      "              precision    recall  f1-score   support\n",
      "\n",
      "           0       0.65      0.68      0.66      3500\n",
      "           1       0.52      0.49      0.51      2500\n",
      "\n",
      "    accuracy                           0.60      6000\n",
      "   macro avg       0.59      0.58      0.59      6000\n",
      "weighted avg       0.60      0.60      0.60      6000\n",
      "\n"
     ]
    }
   ],
   "source": [
    "# import the class\n",
    "from sklearn.neighbors import KNeighborsClassifier\n",
    "\n",
    "# instantiate the model (with the default parameters)\n",
    "knn = KNeighborsClassifier(n_neighbors=5, p=2,\n",
    "                               metric='minkowski')\n",
    "\n",
    "# fit the model with data (occurs in-place)\n",
    "knn.fit(X_train, y_train)\n",
    "y_pred = knn.predict(X_test)\n",
    "print(accuracy_score(y_test, y_pred))\n",
    "print(confusion_matrix(y_test, y_pred))  \n",
    "print(classification_report(y_test, y_pred)) "
   ]
  },
  {
   "cell_type": "code",
   "execution_count": 33,
   "metadata": {},
   "outputs": [
    {
     "name": "stdout",
     "output_type": "stream",
     "text": [
      "0.7368333333333333\n"
     ]
    },
    {
     "data": {
      "text/plain": [
       "array([[2662,  838],\n",
       "       [ 741, 1759]], dtype=int64)"
      ]
     },
     "execution_count": 33,
     "metadata": {},
     "output_type": "execute_result"
    },
    {
     "name": "stdout",
     "output_type": "stream",
     "text": [
      "              precision    recall  f1-score   support\n",
      "\n",
      "           0       0.78      0.76      0.77      3500\n",
      "           1       0.68      0.70      0.69      2500\n",
      "\n",
      "    accuracy                           0.74      6000\n",
      "   macro avg       0.73      0.73      0.73      6000\n",
      "weighted avg       0.74      0.74      0.74      6000\n",
      "\n"
     ]
    }
   ],
   "source": [
    "from sklearn.naive_bayes import MultinomialNB\n",
    "model = MultinomialNB()\n",
    "pred = model.fit(X_train, y_train).predict(X_test)\n",
    "print(accuracy_score(y_test, pred))\n",
    "confusion_matrix(y_test, pred)\n",
    "print(format(classification_report(y_test, pred)))"
   ]
  },
  {
   "cell_type": "code",
   "execution_count": 34,
   "metadata": {},
   "outputs": [],
   "source": [
    "#from sklearn.neighbors import NearestCentroid\n",
    "#nc = NearestCentroid()\n",
    "# fit the model with data (occurs in-place)\n",
    "#nc.fit(X_train, y_train)\n",
    "#y_pred_ = nc.predict(X_test)\n",
    "#print(accuracy_score(y_test, y_pred_))\n",
    "#print(confusion_matrix(y_test, y_pred_))  "
   ]
  },
  {
   "cell_type": "code",
   "execution_count": 35,
   "metadata": {},
   "outputs": [
    {
     "data": {
      "text/plain": [
       "NearestCentroid()"
      ]
     },
     "execution_count": 35,
     "metadata": {},
     "output_type": "execute_result"
    },
    {
     "name": "stdout",
     "output_type": "stream",
     "text": [
      "Training Set Score : 60.92857142857143 %\n",
      "Test Set Score : 61.06666666666667 %\n",
      "Model Classification Report : \n",
      "              precision    recall  f1-score   support\n",
      "\n",
      "           0       0.68      0.64      0.66      3500\n",
      "           1       0.53      0.58      0.55      2500\n",
      "\n",
      "    accuracy                           0.61      6000\n",
      "   macro avg       0.60      0.61      0.60      6000\n",
      "weighted avg       0.62      0.61      0.61      6000\n",
      "\n"
     ]
    }
   ],
   "source": [
    "# Creating the Nearest Centroid Classifier\n",
    "from sklearn.neighbors import NearestCentroid\n",
    "model = NearestCentroid()\n",
    " \n",
    "# Training the classifier\n",
    "model.fit(X_train, y_train.values.ravel())\n",
    " \n",
    "# Printing Accuracy on Training and Test sets\n",
    "print(f\"Training Set Score : {model.score(X_train, y_train) * 100} %\")\n",
    "print(f\"Test Set Score : {model.score(X_test, y_test) * 100} %\")\n",
    " \n",
    "# Printing classification report of classifier on the test set set data\n",
    "print(f\"Model Classification Report : \\n{classification_report(y_test, model.predict(X_test))}\")"
   ]
  },
  {
   "cell_type": "code",
   "execution_count": 36,
   "metadata": {},
   "outputs": [
    {
     "name": "stdout",
     "output_type": "stream",
     "text": [
      "0.44666666666666666\n"
     ]
    },
    {
     "data": {
      "text/plain": [
       "array([[1196, 2304],\n",
       "       [1016, 1484]], dtype=int64)"
      ]
     },
     "execution_count": 36,
     "metadata": {},
     "output_type": "execute_result"
    },
    {
     "name": "stdout",
     "output_type": "stream",
     "text": [
      "              precision    recall  f1-score   support\n",
      "\n",
      "           0       0.54      0.34      0.42      3500\n",
      "           1       0.39      0.59      0.47      2500\n",
      "\n",
      "    accuracy                           0.45      6000\n",
      "   macro avg       0.47      0.47      0.45      6000\n",
      "weighted avg       0.48      0.45      0.44      6000\n",
      "\n"
     ]
    }
   ],
   "source": [
    "from sklearn.cluster import KMeans   \n",
    "kmeans = KMeans(n_clusters=2, init='k-means++', max_iter=300, n_init=10, random_state=27)\n",
    "pred_ = kmeans.fit(X_train, y_train).predict(X_test)\n",
    "print(accuracy_score(y_test, pred_))\n",
    "confusion_matrix(y_test, pred_)\n",
    "print(format(classification_report(y_test, pred_)))"
   ]
  },
  {
   "cell_type": "code",
   "execution_count": 37,
   "metadata": {},
   "outputs": [],
   "source": [
    "#from sklearn.neural_network import MLPClassifier\n",
    "#from sklearn.datasets import make_classification\n",
    "#from sklearn.model_selection import train_test_split\n",
    "#clf_ = MLPClassifier(random_state=1, max_iter=300)\n",
    "#pred_y = clf_.fit(X_train, y_train).predict(X_test)\n",
    "#print(accuracy_score(y_test, pred_y))\n",
    "#confusion_matrix(y_test, pred_y)\n",
    "#print(format(classification_report(y_test, pred_y)))"
   ]
  },
  {
   "cell_type": "code",
   "execution_count": 38,
   "metadata": {},
   "outputs": [],
   "source": [
    "def print_score(clf, X_train_under, y_train_under,  X_test_under, y_test_under, train=True):\n",
    "    '''\n",
    "    print the accuracy score, classification report and confusion matrix of classifier\n",
    "    '''\n",
    "    if train:\n",
    "        '''\n",
    "        training performance\n",
    "        '''\n",
    "        print(\"Train Result:\\n\")\n",
    "        print(\"accuracy score: {0:.4f}\\n\".format(accuracy_score(y_train_under, clf.predict(X_train_under))))\n",
    "        print(\"Classification Report: \\n {}\\n\".format(classification_report(y_train_under, clf.predict(X_train_under))))\n",
    "        print(\"Confusion Matrix: \\n {}\\n\".format(confusion_matrix(y_train_under, clf.predict(X_train_under))))\n",
    "\n",
    "        res = cross_val_score(clf, X_train_under, y_train_under, cv=10, scoring='accuracy')\n",
    "        print(\"Average Accuracy: \\t {0:.4f}\".format(np.mean(res)))\n",
    "        print(\"Accuracy SD: \\t\\t {0:.4f}\".format(np.std(res)))\n",
    "\n",
    "        \n",
    "    elif train==False:\n",
    "        '''\n",
    "        test performance\n",
    "        '''\n",
    "        print(\"Test Result:\\n\")        \n",
    "        print(\"accuracy score: {0:.4f}\\n\".format(accuracy_score(y_test_under, clf.predict( X_test_under))))\n",
    "        print(\"Classification Report: \\n {}\\n\".format(classification_report(y_test_under, clf.predict( X_test_under))))\n",
    "        print(\"Confusion Matrix: \\n {}\\n\".format(confusion_matrix(y_test_under, clf.predict(X_test_under))))        "
   ]
  },
  {
   "cell_type": "code",
   "execution_count": 39,
   "metadata": {},
   "outputs": [
    {
     "data": {
      "text/plain": [
       "KNeighborsClassifier()"
      ]
     },
     "execution_count": 39,
     "metadata": {},
     "output_type": "execute_result"
    }
   ],
   "source": [
    "# import the class\n",
    "from sklearn.neighbors import KNeighborsClassifier\n",
    "\n",
    "# instantiate the model (with the default parameters)\n",
    "knn = KNeighborsClassifier(n_neighbors=5, p=2,\n",
    "                               metric='minkowski')\n",
    "\n",
    "# fit the model with data (occurs in-place)\n",
    "knn.fit(X_train, y_train)"
   ]
  },
  {
   "cell_type": "code",
   "execution_count": 40,
   "metadata": {},
   "outputs": [
    {
     "name": "stdout",
     "output_type": "stream",
     "text": [
      "Train Result:\n",
      "\n",
      "accuracy score: 0.7426\n",
      "\n",
      "Classification Report: \n",
      "               precision    recall  f1-score   support\n",
      "\n",
      "           0       0.76      0.81      0.78      8121\n",
      "           1       0.71      0.66      0.68      5879\n",
      "\n",
      "    accuracy                           0.74     14000\n",
      "   macro avg       0.74      0.73      0.73     14000\n",
      "weighted avg       0.74      0.74      0.74     14000\n",
      "\n",
      "\n",
      "Confusion Matrix: \n",
      " [[6541 1580]\n",
      " [2023 3856]]\n",
      "\n",
      "Average Accuracy: \t 0.5976\n",
      "Accuracy SD: \t\t 0.0123\n"
     ]
    }
   ],
   "source": [
    "print_score(knn, X_train, y_train,  X_test, y_test, train=True)"
   ]
  },
  {
   "cell_type": "code",
   "execution_count": 41,
   "metadata": {},
   "outputs": [
    {
     "name": "stdout",
     "output_type": "stream",
     "text": [
      "Test Result:\n",
      "\n",
      "accuracy score: 0.6003\n",
      "\n",
      "Classification Report: \n",
      "               precision    recall  f1-score   support\n",
      "\n",
      "           0       0.65      0.68      0.66      3500\n",
      "           1       0.52      0.49      0.51      2500\n",
      "\n",
      "    accuracy                           0.60      6000\n",
      "   macro avg       0.59      0.58      0.59      6000\n",
      "weighted avg       0.60      0.60      0.60      6000\n",
      "\n",
      "\n",
      "Confusion Matrix: \n",
      " [[2375 1125]\n",
      " [1273 1227]]\n",
      "\n"
     ]
    }
   ],
   "source": [
    "print_score(knn, X_train, y_train,  X_test, y_test, train=False)"
   ]
  },
  {
   "cell_type": "code",
   "execution_count": 42,
   "metadata": {},
   "outputs": [],
   "source": [
    "from sklearn.naive_bayes import MultinomialNB\n",
    "model = MultinomialNB()\n",
    "pred = model.fit(X_train, y_train)"
   ]
  },
  {
   "cell_type": "code",
   "execution_count": 43,
   "metadata": {},
   "outputs": [
    {
     "name": "stdout",
     "output_type": "stream",
     "text": [
      "Train Result:\n",
      "\n",
      "accuracy score: 0.7362\n",
      "\n",
      "Classification Report: \n",
      "               precision    recall  f1-score   support\n",
      "\n",
      "           0       0.77      0.77      0.77      8121\n",
      "           1       0.68      0.69      0.69      5879\n",
      "\n",
      "    accuracy                           0.74     14000\n",
      "   macro avg       0.73      0.73      0.73     14000\n",
      "weighted avg       0.74      0.74      0.74     14000\n",
      "\n",
      "\n",
      "Confusion Matrix: \n",
      " [[6244 1877]\n",
      " [1816 4063]]\n",
      "\n",
      "Average Accuracy: \t 0.7339\n",
      "Accuracy SD: \t\t 0.0191\n"
     ]
    }
   ],
   "source": [
    "print_score(model, X_train, y_train,  X_test, y_test, train=True)"
   ]
  },
  {
   "cell_type": "code",
   "execution_count": 44,
   "metadata": {},
   "outputs": [
    {
     "name": "stdout",
     "output_type": "stream",
     "text": [
      "Test Result:\n",
      "\n",
      "accuracy score: 0.7368\n",
      "\n",
      "Classification Report: \n",
      "               precision    recall  f1-score   support\n",
      "\n",
      "           0       0.78      0.76      0.77      3500\n",
      "           1       0.68      0.70      0.69      2500\n",
      "\n",
      "    accuracy                           0.74      6000\n",
      "   macro avg       0.73      0.73      0.73      6000\n",
      "weighted avg       0.74      0.74      0.74      6000\n",
      "\n",
      "\n",
      "Confusion Matrix: \n",
      " [[2662  838]\n",
      " [ 741 1759]]\n",
      "\n"
     ]
    }
   ],
   "source": [
    "print_score(model, X_train, y_train,  X_test, y_test, train=False)"
   ]
  },
  {
   "cell_type": "code",
   "execution_count": 45,
   "metadata": {},
   "outputs": [],
   "source": [
    "from sklearn.cluster import KMeans   \n",
    "kmeans = KMeans(n_clusters=2, init='k-means++', max_iter=300, n_init=10, random_state=27)\n",
    "pred_ = kmeans.fit(X_train, y_train)"
   ]
  },
  {
   "cell_type": "code",
   "execution_count": 46,
   "metadata": {},
   "outputs": [
    {
     "name": "stdout",
     "output_type": "stream",
     "text": [
      "Train Result:\n",
      "\n",
      "accuracy score: 0.4499\n",
      "\n",
      "Classification Report: \n",
      "               precision    recall  f1-score   support\n",
      "\n",
      "           0       0.54      0.34      0.42      8121\n",
      "           1       0.40      0.60      0.48      5879\n",
      "\n",
      "    accuracy                           0.45     14000\n",
      "   macro avg       0.47      0.47      0.45     14000\n",
      "weighted avg       0.48      0.45      0.44     14000\n",
      "\n",
      "\n",
      "Confusion Matrix: \n",
      " [[2746 5375]\n",
      " [2326 3553]]\n",
      "\n",
      "Average Accuracy: \t 0.5354\n",
      "Accuracy SD: \t\t 0.0379\n"
     ]
    }
   ],
   "source": [
    "print_score(kmeans, X_train, y_train,  X_test, y_test, train=True)"
   ]
  },
  {
   "cell_type": "code",
   "execution_count": 47,
   "metadata": {},
   "outputs": [
    {
     "name": "stdout",
     "output_type": "stream",
     "text": [
      "Test Result:\n",
      "\n",
      "accuracy score: 0.4467\n",
      "\n",
      "Classification Report: \n",
      "               precision    recall  f1-score   support\n",
      "\n",
      "           0       0.54      0.34      0.42      3500\n",
      "           1       0.39      0.59      0.47      2500\n",
      "\n",
      "    accuracy                           0.45      6000\n",
      "   macro avg       0.47      0.47      0.45      6000\n",
      "weighted avg       0.48      0.45      0.44      6000\n",
      "\n",
      "\n",
      "Confusion Matrix: \n",
      " [[1196 2304]\n",
      " [1016 1484]]\n",
      "\n"
     ]
    }
   ],
   "source": [
    "print_score(kmeans, X_train, y_train,  X_test, y_test, train=False)"
   ]
  },
  {
   "cell_type": "code",
   "execution_count": 48,
   "metadata": {},
   "outputs": [
    {
     "data": {
      "text/plain": [
       "NearestCentroid()"
      ]
     },
     "execution_count": 48,
     "metadata": {},
     "output_type": "execute_result"
    }
   ],
   "source": [
    "# Creating the Nearest Centroid Classifier\n",
    "from sklearn.neighbors import NearestCentroid\n",
    "model_ = NearestCentroid()\n",
    " \n",
    "# Training the classifier\n",
    "model_.fit(X_train, y_train.values.ravel())"
   ]
  },
  {
   "cell_type": "code",
   "execution_count": 49,
   "metadata": {},
   "outputs": [
    {
     "name": "stdout",
     "output_type": "stream",
     "text": [
      "Train Result:\n",
      "\n",
      "accuracy score: 0.6093\n",
      "\n",
      "Classification Report: \n",
      "               precision    recall  f1-score   support\n",
      "\n",
      "           0       0.67      0.65      0.66      8121\n",
      "           1       0.53      0.56      0.55      5879\n",
      "\n",
      "    accuracy                           0.61     14000\n",
      "   macro avg       0.60      0.60      0.60     14000\n",
      "weighted avg       0.61      0.61      0.61     14000\n",
      "\n",
      "\n",
      "Confusion Matrix: \n",
      " [[5252 2869]\n",
      " [2601 3278]]\n",
      "\n",
      "Average Accuracy: \t 0.6089\n",
      "Accuracy SD: \t\t 0.0147\n"
     ]
    }
   ],
   "source": [
    "print_score(model_, X_train, y_train,  X_test, y_test, train=True)"
   ]
  },
  {
   "cell_type": "code",
   "execution_count": 50,
   "metadata": {},
   "outputs": [
    {
     "name": "stdout",
     "output_type": "stream",
     "text": [
      "Test Result:\n",
      "\n",
      "accuracy score: 0.6107\n",
      "\n",
      "Classification Report: \n",
      "               precision    recall  f1-score   support\n",
      "\n",
      "           0       0.68      0.64      0.66      3500\n",
      "           1       0.53      0.58      0.55      2500\n",
      "\n",
      "    accuracy                           0.61      6000\n",
      "   macro avg       0.60      0.61      0.60      6000\n",
      "weighted avg       0.62      0.61      0.61      6000\n",
      "\n",
      "\n",
      "Confusion Matrix: \n",
      " [[2223 1277]\n",
      " [1059 1441]]\n",
      "\n"
     ]
    }
   ],
   "source": [
    "print_score(model_, X_train, y_train,  X_test, y_test, train=False)"
   ]
  },
  {
   "cell_type": "code",
   "execution_count": 51,
   "metadata": {},
   "outputs": [
    {
     "name": "stdout",
     "output_type": "stream",
     "text": [
      "[LightGBM] [Warning] min_data_in_leaf is set=10, min_child_samples=20 will be ignored. Current value: min_data_in_leaf=10\n"
     ]
    },
    {
     "data": {
      "text/plain": [
       "LGBMClassifier(learning_rate=0.03, max_depth=40, min_data_in_leaf=10,\n",
       "               n_estimators=500, num_leaves=50, random_state=42)"
      ]
     },
     "execution_count": 51,
     "metadata": {},
     "output_type": "execute_result"
    }
   ],
   "source": [
    "from matplotlib import pyplot\n",
    "import lightgbm as lgbm\n",
    "from lightgbm import plot_importance, plot_tree\n",
    "lgbm_clf = LGBMClassifier(learning_rate =0.03, max_depth=40, min_data_in_leaf=10,\n",
    "                   n_estimators=500, num_leaves=50, random_state = 42)\n",
    "lgbm_clf.fit(X_train,y_train)\n"
   ]
  },
  {
   "cell_type": "code",
   "execution_count": 52,
   "metadata": {},
   "outputs": [
    {
     "data": {
      "text/plain": [
       "<matplotlib.axes._subplots.AxesSubplot at 0x1e7356ccf08>"
      ]
     },
     "execution_count": 52,
     "metadata": {},
     "output_type": "execute_result"
    },
    {
     "data": {
      "image/png": "[encoded data removed]",
      "text/plain": [
       "<Figure size 1584x1584 with 1 Axes>"
      ]
     },
     "metadata": {
      "needs_background": "light"
     },
     "output_type": "display_data"
    }
   ],
   "source": [
    "plot_importance(lgbm_clf,height=0.8,figsize=(22,22))"
   ]
  },
  {
   "cell_type": "code",
   "execution_count": 53,
   "metadata": {},
   "outputs": [
    {
     "ename": "ModuleNotFoundError",
     "evalue": "No module named 'lazypredict'",
     "output_type": "error",
     "traceback": [
      "\u001b[1;31m---------------------------------------------------------------------------\u001b[0m",
      "\u001b[1;31mModuleNotFoundError\u001b[0m                       Traceback (most recent call last)",
      "\u001b[1;32m<ipython-input-53-00aea17e9e4a>\u001b[0m in \u001b[0;36m<module>\u001b[1;34m\u001b[0m\n\u001b[0;32m      1\u001b[0m \u001b[1;31m# Import libraries\u001b[0m\u001b[1;33m\u001b[0m\u001b[1;33m\u001b[0m\u001b[1;33m\u001b[0m\u001b[0m\n\u001b[1;32m----> 2\u001b[1;33m \u001b[1;32mimport\u001b[0m \u001b[0mlazypredict\u001b[0m\u001b[1;33m\u001b[0m\u001b[1;33m\u001b[0m\u001b[0m\n\u001b[0m\u001b[0;32m      3\u001b[0m \u001b[1;32mfrom\u001b[0m \u001b[0mlazypredict\u001b[0m\u001b[1;33m.\u001b[0m\u001b[0mSupervised\u001b[0m \u001b[1;32mimport\u001b[0m \u001b[0mLazyClassifier\u001b[0m\u001b[1;33m\u001b[0m\u001b[1;33m\u001b[0m\u001b[0m\n\u001b[0;32m      4\u001b[0m \u001b[1;31m# Defines and builds the lazyclassifier\u001b[0m\u001b[1;33m\u001b[0m\u001b[1;33m\u001b[0m\u001b[1;33m\u001b[0m\u001b[0m\n\u001b[0;32m      5\u001b[0m \u001b[0mclf\u001b[0m \u001b[1;33m=\u001b[0m \u001b[0mLazyClassifier\u001b[0m\u001b[1;33m(\u001b[0m\u001b[0mverbose\u001b[0m\u001b[1;33m=\u001b[0m\u001b[1;36m0\u001b[0m\u001b[1;33m,\u001b[0m\u001b[0mignore_warnings\u001b[0m\u001b[1;33m=\u001b[0m\u001b[1;32mTrue\u001b[0m\u001b[1;33m,\u001b[0m \u001b[0mcustom_metric\u001b[0m\u001b[1;33m=\u001b[0m\u001b[1;32mNone\u001b[0m\u001b[1;33m)\u001b[0m\u001b[1;33m\u001b[0m\u001b[1;33m\u001b[0m\u001b[0m\n",
      "\u001b[1;31mModuleNotFoundError\u001b[0m: No module named 'lazypredict'"
     ]
    }
   ],
   "source": [
    "# Import libraries\n",
    "import lazypredict\n",
    "from lazypredict.Supervised import LazyClassifier\n",
    "# Defines and builds the lazyclassifier\n",
    "clf = LazyClassifier(verbose=0,ignore_warnings=True, custom_metric=None)\n",
    "models_train,predictions_train = clf.fit(X_train, X_train, y_train, y_train)\n",
    "models_test,predictions_test = clf.fit(X_train, X_test, y_train, y_test)\n",
    "\n",
    "# Prints the model performance\n",
    "models_train"
   ]
  },
  {
   "cell_type": "code",
   "execution_count": null,
   "metadata": {},
   "outputs": [],
   "source": [
    "models_test"
   ]
  },
  {
   "cell_type": "code",
   "execution_count": null,
   "metadata": {},
   "outputs": [],
   "source": [
    "[0 if i < 0 else i for i in models_train.iloc[:,0] ]"
   ]
  },
  {
   "cell_type": "code",
   "execution_count": null,
   "metadata": {},
   "outputs": [],
   "source": [
    "models_train[\"Accuracy\"] = [0 if i < 0 else i for i in models_train.iloc[:,0] ]"
   ]
  },
  {
   "cell_type": "code",
   "execution_count": null,
   "metadata": {},
   "outputs": [],
   "source": [
    "import matplotlib.pyplot as plt\n",
    "import seaborn as sns\n",
    "%matplotlib inline\n",
    "models_train[\"Accuracy\"] = [0 if i < 0 else i for i in models_train.iloc[:,0] ]\n",
    "plt.figure(figsize=(10, 5))\n",
    "sns.set_theme(style=\"whitegrid\")\n",
    "ax = sns.barplot(x = models_train.index, y=\"Accuracy\", data=models_train)\n",
    "plt.xticks(rotation=90)"
   ]
  },
  {
   "cell_type": "code",
   "execution_count": null,
   "metadata": {},
   "outputs": [],
   "source": [
    "import matplotlib.pyplot as plt\n",
    "import seaborn as sns\n",
    "\n",
    "plt.figure(figsize=(5, 10))\n",
    "sns.set_theme(style=\"whitegrid\")\n",
    "ax = sns.barplot(y=models_train.index, x=\"Accuracy\", data=models_train)"
   ]
  },
  {
   "cell_type": "code",
   "execution_count": null,
   "metadata": {},
   "outputs": [],
   "source": [
    "# Import libraries\n",
    "from lazypredict.Supervised import LazyRegressor\n",
    "# Defines and builds the lazyclassifier\n",
    "reg = LazyRegressor(verbose=0,ignore_warnings=False, custom_metric=None)\n",
    "models_train,predictions_train = reg.fit(X_train, X_train, y_train, y_train)\n",
    "models_test,predictions_test = reg.fit(X_train, X_test, y_train, y_test)\n",
    "\n",
    "# Prints the model performance\n",
    "models_train"
   ]
  },
  {
   "cell_type": "code",
   "execution_count": null,
   "metadata": {},
   "outputs": [],
   "source": [
    "models_test"
   ]
  },
  {
   "cell_type": "code",
   "execution_count": null,
   "metadata": {},
   "outputs": [],
   "source": [
    "[0 if i < 0 else i for i in models_train.iloc[:,0] ]"
   ]
  },
  {
   "cell_type": "code",
   "execution_count": null,
   "metadata": {},
   "outputs": [],
   "source": [
    "import matplotlib.pyplot as plt\n",
    "import seaborn as sns\n",
    "\n",
    "#train[\"R-Squared\"] = [0 if i < 0 else i for i in train.iloc[:,0] ]\n",
    "\n",
    "plt.figure(figsize=(10, 5))\n",
    "sns.set_theme(style=\"whitegrid\")\n",
    "ax = sns.barplot(x=models_train.index, y=\"R-Squared\", data=models_train)\n",
    "ax.set(ylim=(0, 1))\n",
    "plt.xticks(rotation=90)"
   ]
  },
  {
   "cell_type": "code",
   "execution_count": null,
   "metadata": {},
   "outputs": [],
   "source": [
    "import matplotlib.pyplot as plt\n",
    "import seaborn as sns\n",
    "\n",
    "models_train[\"R-Squared\"] = [0 if i < 0 else i for i in models_train.iloc[:,0] ]\n",
    "\n",
    "plt.figure(figsize=(5, 10))\n",
    "sns.set_theme(style=\"whitegrid\")\n",
    "ax = sns.barplot(y=models_train.index, x=\"R-Squared\", data=models_train)\n",
    "ax.set(xlim=(0, 1))"
   ]
  },
  {
   "cell_type": "code",
   "execution_count": null,
   "metadata": {},
   "outputs": [],
   "source": []
  }
 ],
 "metadata": {
  "kernelspec": {
   "display_name": "Python 3 (ipykernel)",
   "language": "python",
   "name": "python3"
  },
  "language_info": {
   "codemirror_mode": {
    "name": "ipython",
    "version": 3
   },
   "file_extension": ".py",
   "mimetype": "text/x-python",
   "name": "python",
   "nbconvert_exporter": "python",
   "pygments_lexer": "ipython3",
   "version": "3.10.9"
  }
 },
 "nbformat": 4,
 "nbformat_minor": 4
}
